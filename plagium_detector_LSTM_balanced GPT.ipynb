{
 "cells": [
  {
   "attachments": {},
   "cell_type": "markdown",
   "metadata": {},
   "source": [
    "# Java Plagiarism Detector"
   ]
  },
  {
   "attachments": {},
   "cell_type": "markdown",
   "metadata": {},
   "source": [
    "Import Lexer analyzer and source code to analyze"
   ]
  },
  {
   "cell_type": "code",
   "execution_count": 1,
   "metadata": {
    "id": "0JWZPOS1nJLH",
    "scrolled": false
   },
   "outputs": [],
   "source": [
    "from java_lexer import Lexer\n",
    "from source_codes import SOURCE_CODE2, SOURCE_CODE1, SOURCE_CODE3, SOURCE_CODE4"
   ]
  },
  {
   "attachments": {},
   "cell_type": "markdown",
   "metadata": {},
   "source": [
    "Call Lexer class and obtain all tokens from source code"
   ]
  },
  {
   "cell_type": "code",
   "execution_count": 2,
   "metadata": {},
   "outputs": [
    {
     "data": {
      "text/html": [
       "<div>\n",
       "<style scoped>\n",
       "    .dataframe tbody tr th:only-of-type {\n",
       "        vertical-align: middle;\n",
       "    }\n",
       "\n",
       "    .dataframe tbody tr th {\n",
       "        vertical-align: top;\n",
       "    }\n",
       "\n",
       "    .dataframe thead th {\n",
       "        text-align: right;\n",
       "    }\n",
       "</style>\n",
       "<table border=\"1\" class=\"dataframe\">\n",
       "  <thead>\n",
       "    <tr style=\"text-align: right;\">\n",
       "      <th></th>\n",
       "      <th>code1</th>\n",
       "      <th>code2</th>\n",
       "      <th>plagium</th>\n",
       "    </tr>\n",
       "  </thead>\n",
       "  <tbody>\n",
       "    <tr>\n",
       "      <th>0</th>\n",
       "      <td>IMPORT import java.io.BufferedReader; IMPORT i...</td>\n",
       "      <td>IMPORT import java.io.IOException; IMPORT impo...</td>\n",
       "      <td>0</td>\n",
       "    </tr>\n",
       "    <tr>\n",
       "      <th>1</th>\n",
       "      <td>IDENTIFIER  IDENTIFIER  PUNCTUATION . IDENTIFI...</td>\n",
       "      <td>IDENTIFIER  IDENTIFIER  PUNCTUATION . IDENTIFI...</td>\n",
       "      <td>0</td>\n",
       "    </tr>\n",
       "    <tr>\n",
       "      <th>2</th>\n",
       "      <td>IDENTIFIER  IDENTIFIER  PUNCTUATION . IDENTIFI...</td>\n",
       "      <td>IDENTIFIER  IDENTIFIER  PUNCTUATION . IDENTIFI...</td>\n",
       "      <td>0</td>\n",
       "    </tr>\n",
       "    <tr>\n",
       "      <th>3</th>\n",
       "      <td>IDENTIFIER  IDENTIFIER  PUNCTUATION . IDENTIFI...</td>\n",
       "      <td>IDENTIFIER  IDENTIFIER  PUNCTUATION . IDENTIFI...</td>\n",
       "      <td>0</td>\n",
       "    </tr>\n",
       "    <tr>\n",
       "      <th>4</th>\n",
       "      <td>IMPORT import java.io.BufferedReader; IMPORT i...</td>\n",
       "      <td>IDENTIFIER  KEYWORD static IDENTIFIER  PUNCTUA...</td>\n",
       "      <td>0</td>\n",
       "    </tr>\n",
       "    <tr>\n",
       "      <th>...</th>\n",
       "      <td>...</td>\n",
       "      <td>...</td>\n",
       "      <td>...</td>\n",
       "    </tr>\n",
       "    <tr>\n",
       "      <th>491</th>\n",
       "      <td>IDENTIFIER  IDENTIFIER  PUNCTUATION . IDENTIFI...</td>\n",
       "      <td>IDENTIFIER  IDENTIFIER  PUNCTUATION . IDENTIFI...</td>\n",
       "      <td>1</td>\n",
       "    </tr>\n",
       "    <tr>\n",
       "      <th>492</th>\n",
       "      <td>IDENTIFIER  IDENTIFIER  PUNCTUATION . IDENTIFI...</td>\n",
       "      <td>IMPORT import java.io.BufferedReader; IMPORT i...</td>\n",
       "      <td>1</td>\n",
       "    </tr>\n",
       "    <tr>\n",
       "      <th>493</th>\n",
       "      <td>IDENTIFIER  IDENTIFIER  PUNCTUATION . IDENTIFI...</td>\n",
       "      <td>IDENTIFIER  IDENTIFIER  PUNCTUATION . IDENTIFI...</td>\n",
       "      <td>1</td>\n",
       "    </tr>\n",
       "    <tr>\n",
       "      <th>494</th>\n",
       "      <td>IDENTIFIER  IDENTIFIER  PUNCTUATION . IDENTIFI...</td>\n",
       "      <td>IMPORT import java.io.BufferedReader; IMPORT i...</td>\n",
       "      <td>1</td>\n",
       "    </tr>\n",
       "    <tr>\n",
       "      <th>495</th>\n",
       "      <td>IDENTIFIER  IDENTIFIER  PUNCTUATION . IDENTIFI...</td>\n",
       "      <td>IDENTIFIER  IDENTIFIER  PUNCTUATION . IDENTIFI...</td>\n",
       "      <td>1</td>\n",
       "    </tr>\n",
       "  </tbody>\n",
       "</table>\n",
       "<p>496 rows × 3 columns</p>\n",
       "</div>"
      ],
      "text/plain": [
       "                                                 code1  \\\n",
       "0    IMPORT import java.io.BufferedReader; IMPORT i...   \n",
       "1    IDENTIFIER  IDENTIFIER  PUNCTUATION . IDENTIFI...   \n",
       "2    IDENTIFIER  IDENTIFIER  PUNCTUATION . IDENTIFI...   \n",
       "3    IDENTIFIER  IDENTIFIER  PUNCTUATION . IDENTIFI...   \n",
       "4    IMPORT import java.io.BufferedReader; IMPORT i...   \n",
       "..                                                 ...   \n",
       "491  IDENTIFIER  IDENTIFIER  PUNCTUATION . IDENTIFI...   \n",
       "492  IDENTIFIER  IDENTIFIER  PUNCTUATION . IDENTIFI...   \n",
       "493  IDENTIFIER  IDENTIFIER  PUNCTUATION . IDENTIFI...   \n",
       "494  IDENTIFIER  IDENTIFIER  PUNCTUATION . IDENTIFI...   \n",
       "495  IDENTIFIER  IDENTIFIER  PUNCTUATION . IDENTIFI...   \n",
       "\n",
       "                                                 code2  plagium  \n",
       "0    IMPORT import java.io.IOException; IMPORT impo...        0  \n",
       "1    IDENTIFIER  IDENTIFIER  PUNCTUATION . IDENTIFI...        0  \n",
       "2    IDENTIFIER  IDENTIFIER  PUNCTUATION . IDENTIFI...        0  \n",
       "3    IDENTIFIER  IDENTIFIER  PUNCTUATION . IDENTIFI...        0  \n",
       "4    IDENTIFIER  KEYWORD static IDENTIFIER  PUNCTUA...        0  \n",
       "..                                                 ...      ...  \n",
       "491  IDENTIFIER  IDENTIFIER  PUNCTUATION . IDENTIFI...        1  \n",
       "492  IMPORT import java.io.BufferedReader; IMPORT i...        1  \n",
       "493  IDENTIFIER  IDENTIFIER  PUNCTUATION . IDENTIFI...        1  \n",
       "494  IMPORT import java.io.BufferedReader; IMPORT i...        1  \n",
       "495  IDENTIFIER  IDENTIFIER  PUNCTUATION . IDENTIFI...        1  \n",
       "\n",
       "[496 rows x 3 columns]"
      ]
     },
     "execution_count": 2,
     "metadata": {},
     "output_type": "execute_result"
    }
   ],
   "source": [
    "\n",
    "import pandas as pd\n",
    "\n",
    "# Read CSV file\n",
    "data = pd.read_csv('downsampled_dataset_separado.csv')\n",
    "\n",
    "# Extract columns from CSV\n",
    "column_names = ['code1', 'code2', 'plagium']\n",
    "columns_data = data[column_names]\n",
    "\n",
    "# Create a new DataFrame with the extracted column\n",
    "downsampled_dataset = pd.DataFrame(columns_data)\n",
    "\n",
    "downsampled_dataset"
   ]
  },
  {
   "cell_type": "code",
   "execution_count": 3,
   "metadata": {},
   "outputs": [
    {
     "name": "stdout",
     "output_type": "stream",
     "text": [
      "non plagium samples 248\n",
      "plagium samples 248\n"
     ]
    }
   ],
   "source": [
    "print(\"non plagium samples\",(downsampled_dataset['plagium'] == 0).sum())\n",
    "\n",
    "print(\"plagium samples\", (downsampled_dataset['plagium'] == 1).sum())\n"
   ]
  },
  {
   "cell_type": "code",
   "execution_count": 4,
   "metadata": {},
   "outputs": [],
   "source": [
    "from sklearn.model_selection import train_test_split\n",
    "proceesed_data_df = pd.DataFrame(downsampled_dataset)\n",
    "\n",
    "\n",
    "train_df, test_df = train_test_split(\n",
    "        proceesed_data_df,\n",
    "        test_size=0.2,\n",
    "        random_state=202\n",
    ")"
   ]
  },
  {
   "cell_type": "code",
   "execution_count": 5,
   "metadata": {},
   "outputs": [
    {
     "data": {
      "text/html": [
       "<div>\n",
       "<style scoped>\n",
       "    .dataframe tbody tr th:only-of-type {\n",
       "        vertical-align: middle;\n",
       "    }\n",
       "\n",
       "    .dataframe tbody tr th {\n",
       "        vertical-align: top;\n",
       "    }\n",
       "\n",
       "    .dataframe thead th {\n",
       "        text-align: right;\n",
       "    }\n",
       "</style>\n",
       "<table border=\"1\" class=\"dataframe\">\n",
       "  <thead>\n",
       "    <tr style=\"text-align: right;\">\n",
       "      <th></th>\n",
       "      <th>code1</th>\n",
       "      <th>code2</th>\n",
       "      <th>plagium</th>\n",
       "    </tr>\n",
       "  </thead>\n",
       "  <tbody>\n",
       "    <tr>\n",
       "      <th>244</th>\n",
       "      <td>IDENTIFIER  IDENTIFIER  PUNCTUATION . IDENTIFI...</td>\n",
       "      <td>IDENTIFIER  IDENTIFIER  PUNCTUATION . IDENTIFI...</td>\n",
       "      <td>0</td>\n",
       "    </tr>\n",
       "    <tr>\n",
       "      <th>399</th>\n",
       "      <td>IDENTIFIER  IDENTIFIER  PUNCTUATION . IDENTIFI...</td>\n",
       "      <td>IDENTIFIER  IDENTIFIER  PUNCTUATION . IDENTIFI...</td>\n",
       "      <td>1</td>\n",
       "    </tr>\n",
       "    <tr>\n",
       "      <th>69</th>\n",
       "      <td>IMPORT import java.io.BufferedReader; IMPORT i...</td>\n",
       "      <td>IDENTIFIER  IDENTIFIER  PUNCTUATION . IDENTIFI...</td>\n",
       "      <td>0</td>\n",
       "    </tr>\n",
       "    <tr>\n",
       "      <th>416</th>\n",
       "      <td>IDENTIFIER  IDENTIFIER  PUNCTUATION . IDENTIFI...</td>\n",
       "      <td>IDENTIFIER  IDENTIFIER  PUNCTUATION . IDENTIFI...</td>\n",
       "      <td>1</td>\n",
       "    </tr>\n",
       "    <tr>\n",
       "      <th>219</th>\n",
       "      <td>IDENTIFIER  IDENTIFIER  PUNCTUATION . IDENTIFI...</td>\n",
       "      <td>IDENTIFIER  IDENTIFIER  PUNCTUATION . IDENTIFI...</td>\n",
       "      <td>0</td>\n",
       "    </tr>\n",
       "    <tr>\n",
       "      <th>...</th>\n",
       "      <td>...</td>\n",
       "      <td>...</td>\n",
       "      <td>...</td>\n",
       "    </tr>\n",
       "    <tr>\n",
       "      <th>296</th>\n",
       "      <td>IMPORT import java.util.Scanner; KEYWORD publi...</td>\n",
       "      <td>IMPORT import java.util.Scanner; KEYWORD publi...</td>\n",
       "      <td>1</td>\n",
       "    </tr>\n",
       "    <tr>\n",
       "      <th>460</th>\n",
       "      <td>IDENTIFIER  IDENTIFIER  PUNCTUATION . IDENTIFI...</td>\n",
       "      <td>IDENTIFIER  IDENTIFIER  PUNCTUATION . IDENTIFI...</td>\n",
       "      <td>1</td>\n",
       "    </tr>\n",
       "    <tr>\n",
       "      <th>60</th>\n",
       "      <td>IDENTIFIER  IDENTIFIER  PUNCTUATION . IDENTIFI...</td>\n",
       "      <td>IDENTIFIER  IDENTIFIER  PUNCTUATION . IDENTIFI...</td>\n",
       "      <td>0</td>\n",
       "    </tr>\n",
       "    <tr>\n",
       "      <th>151</th>\n",
       "      <td>IDENTIFIER  IDENTIFIER  PUNCTUATION . IDENTIFI...</td>\n",
       "      <td>IDENTIFIER  IDENTIFIER  PUNCTUATION . IDENTIFI...</td>\n",
       "      <td>0</td>\n",
       "    </tr>\n",
       "    <tr>\n",
       "      <th>403</th>\n",
       "      <td>IDENTIFIER  IDENTIFIER  PUNCTUATION . IDENTIFI...</td>\n",
       "      <td>IDENTIFIER  IDENTIFIER  PUNCTUATION . IDENTIFI...</td>\n",
       "      <td>1</td>\n",
       "    </tr>\n",
       "  </tbody>\n",
       "</table>\n",
       "<p>396 rows × 3 columns</p>\n",
       "</div>"
      ],
      "text/plain": [
       "                                                 code1  \\\n",
       "244  IDENTIFIER  IDENTIFIER  PUNCTUATION . IDENTIFI...   \n",
       "399  IDENTIFIER  IDENTIFIER  PUNCTUATION . IDENTIFI...   \n",
       "69   IMPORT import java.io.BufferedReader; IMPORT i...   \n",
       "416  IDENTIFIER  IDENTIFIER  PUNCTUATION . IDENTIFI...   \n",
       "219  IDENTIFIER  IDENTIFIER  PUNCTUATION . IDENTIFI...   \n",
       "..                                                 ...   \n",
       "296  IMPORT import java.util.Scanner; KEYWORD publi...   \n",
       "460  IDENTIFIER  IDENTIFIER  PUNCTUATION . IDENTIFI...   \n",
       "60   IDENTIFIER  IDENTIFIER  PUNCTUATION . IDENTIFI...   \n",
       "151  IDENTIFIER  IDENTIFIER  PUNCTUATION . IDENTIFI...   \n",
       "403  IDENTIFIER  IDENTIFIER  PUNCTUATION . IDENTIFI...   \n",
       "\n",
       "                                                 code2  plagium  \n",
       "244  IDENTIFIER  IDENTIFIER  PUNCTUATION . IDENTIFI...        0  \n",
       "399  IDENTIFIER  IDENTIFIER  PUNCTUATION . IDENTIFI...        1  \n",
       "69   IDENTIFIER  IDENTIFIER  PUNCTUATION . IDENTIFI...        0  \n",
       "416  IDENTIFIER  IDENTIFIER  PUNCTUATION . IDENTIFI...        1  \n",
       "219  IDENTIFIER  IDENTIFIER  PUNCTUATION . IDENTIFI...        0  \n",
       "..                                                 ...      ...  \n",
       "296  IMPORT import java.util.Scanner; KEYWORD publi...        1  \n",
       "460  IDENTIFIER  IDENTIFIER  PUNCTUATION . IDENTIFI...        1  \n",
       "60   IDENTIFIER  IDENTIFIER  PUNCTUATION . IDENTIFI...        0  \n",
       "151  IDENTIFIER  IDENTIFIER  PUNCTUATION . IDENTIFI...        0  \n",
       "403  IDENTIFIER  IDENTIFIER  PUNCTUATION . IDENTIFI...        1  \n",
       "\n",
       "[396 rows x 3 columns]"
      ]
     },
     "execution_count": 5,
     "metadata": {},
     "output_type": "execute_result"
    }
   ],
   "source": [
    "train_df"
   ]
  },
  {
   "cell_type": "code",
   "execution_count": 6,
   "metadata": {},
   "outputs": [
    {
     "name": "stdout",
     "output_type": "stream",
     "text": [
      "non plagium samples 196\n",
      "plagium samples 200\n"
     ]
    }
   ],
   "source": [
    "print(\"non plagium samples\",(train_df['plagium'] == 0).sum())\n",
    "\n",
    "print(\"plagium samples\", (train_df['plagium'] == 1).sum())\n"
   ]
  },
  {
   "cell_type": "code",
   "execution_count": 7,
   "metadata": {},
   "outputs": [
    {
     "name": "stdout",
     "output_type": "stream",
     "text": [
      "396\n",
      "396\n"
     ]
    }
   ],
   "source": [
    "X_train = train_df[[\"code1\",\"code2\"]]\n",
    "X_test = test_df[[\"code1\",\"code2\"]]\n",
    "y_train = train_df[[\"plagium\"]]\n",
    "y_test = test_df[[\"plagium\"]]\n",
    "\n",
    "print(len(X_train))\n",
    "print(len(y_train))"
   ]
  },
  {
   "cell_type": "code",
   "execution_count": 8,
   "metadata": {},
   "outputs": [
    {
     "name": "stderr",
     "output_type": "stream",
     "text": [
      "All model checkpoint layers were used when initializing TFGPT2ForSequenceClassification.\n",
      "\n",
      "Some layers of TFGPT2ForSequenceClassification were not initialized from the model checkpoint at gpt2 and are newly initialized: ['score']\n",
      "You should probably TRAIN this model on a down-stream task to be able to use it for predictions and inference.\n"
     ]
    },
    {
     "name": "stdout",
     "output_type": "stream",
     "text": [
      "Model: \"model\"\n",
      "__________________________________________________________________________________________________\n",
      " Layer (type)                   Output Shape         Param #     Connected to                     \n",
      "==================================================================================================\n",
      " input_1 (InputLayer)           [(None, 1000)]       0           []                               \n",
      "                                                                                                  \n",
      " input_2 (InputLayer)           [(None, 1000)]       0           []                               \n",
      "                                                                                                  \n",
      " tfgpt2_for_sequence_classifica  TFSequenceClassifie  124441344  ['input_1[0][0]',                \n",
      " tion (TFGPT2ForSequenceClassif  rOutputWithPast(los              'input_2[0][0]']                \n",
      " ication)                       s=None, logits=(Non                                               \n",
      "                                e, 1000, 2),                                                      \n",
      "                                 past_key_values=((                                               \n",
      "                                2, None, 12, 1000,                                                \n",
      "                                64),                                                              \n",
      "                                 (2, None, 12, 1000                                               \n",
      "                                , 64),                                                            \n",
      "                                 (2, None, 12, 1000                                               \n",
      "                                , 64),                                                            \n",
      "                                 (2, None, 12, 1000                                               \n",
      "                                , 64),                                                            \n",
      "                                 (2, None, 12, 1000                                               \n",
      "                                , 64),                                                            \n",
      "                                 (2, None, 12, 1000                                               \n",
      "                                , 64),                                                            \n",
      "                                 (2, None, 12, 1000                                               \n",
      "                                , 64),                                                            \n",
      "                                 (2, None, 12, 1000                                               \n",
      "                                , 64),                                                            \n",
      "                                 (2, None, 12, 1000                                               \n",
      "                                , 64),                                                            \n",
      "                                 (2, None, 12, 1000                                               \n",
      "                                , 64),                                                            \n",
      "                                 (2, None, 12, 1000                                               \n",
      "                                , 64),                                                            \n",
      "                                 (2, None, 12, 1000                                               \n",
      "                                , 64)),                                                           \n",
      "                                 hidden_states=None                                               \n",
      "                                , attentions=None)                                                \n",
      "                                                                                                  \n",
      " tf.__operators__.getitem (Slic  (None, 2)           0           ['tfgpt2_for_sequence_classificat\n",
      " ingOpLambda)                                                    ion[0][0]']                      \n",
      "                                                                                                  \n",
      " tf.__operators__.getitem_1 (Sl  (None, 2)           0           ['tfgpt2_for_sequence_classificat\n",
      " icingOpLambda)                                                  ion[1][0]']                      \n",
      "                                                                                                  \n",
      " tf.expand_dims (TFOpLambda)    (None, 1, 2)         0           ['tf.__operators__.getitem[0][0]'\n",
      "                                                                 ]                                \n",
      "                                                                                                  \n",
      " tf.expand_dims_1 (TFOpLambda)  (None, 1, 2)         0           ['tf.__operators__.getitem_1[0][0\n",
      "                                                                 ]']                              \n",
      "                                                                                                  \n",
      " dense (Dense)                  (None, 1, 64)        192         ['tf.expand_dims[0][0]']         \n",
      "                                                                                                  \n",
      " dense_1 (Dense)                (None, 1, 64)        192         ['tf.expand_dims_1[0][0]']       \n",
      "                                                                                                  \n",
      " concatenate (Concatenate)      (None, 1, 128)       0           ['dense[0][0]',                  \n",
      "                                                                  'dense_1[0][0]']                \n",
      "                                                                                                  \n",
      " dense_2 (Dense)                (None, 1, 1)         129         ['concatenate[0][0]']            \n",
      "                                                                                                  \n",
      "==================================================================================================\n",
      "Total params: 124,441,857\n",
      "Trainable params: 124,441,857\n",
      "Non-trainable params: 0\n",
      "__________________________________________________________________________________________________\n"
     ]
    }
   ],
   "source": [
    "import tensorflow as tf\n",
    "from tensorflow.keras.preprocessing.sequence import pad_sequences\n",
    "from tensorflow.keras.models import Model\n",
    "from tensorflow.keras.layers import Input, Embedding, LSTM, Dense, Concatenate\n",
    "from transformers import TFGPT2ForSequenceClassification, GPT2Tokenizer\n",
    "import numpy as np\n",
    "\n",
    "# Define the maximum sequence length\n",
    "max_sequence_length = 1000\n",
    "\n",
    "# Create the GPT-2 tokenizer\n",
    "tokenizer = GPT2Tokenizer.from_pretrained('gpt2')\n",
    "\n",
    "# Convert the text data to sequences\n",
    "X_train_flattened = X_train[\"code1\"] + X_train[\"code2\"]\n",
    "tokenizer.pad_token = tokenizer.eos_token\n",
    "X_train_sequences = tokenizer.batch_encode_plus(X_train_flattened,\n",
    "                                                padding=True,\n",
    "                                                truncation=True,\n",
    "                                                max_length=max_sequence_length,\n",
    "                                                return_tensors='tf')\n",
    "\n",
    "X_test_flattened = X_test[\"code1\"] + X_test[\"code2\"]\n",
    "X_test_sequences = tokenizer.batch_encode_plus(X_test_flattened,\n",
    "                                               padding=True,\n",
    "                                               truncation=True,\n",
    "                                               max_length=max_sequence_length,\n",
    "                                               return_tensors='tf')\n",
    "\n",
    "# Convert y_train and y_test to numpy arrays\n",
    "y_train = np.array(y_train)\n",
    "y_test = np.array(y_test)\n",
    "\n",
    "# Define the inputs\n",
    "input1 = Input(shape=(max_sequence_length,), dtype=tf.int32)\n",
    "input2 = Input(shape=(max_sequence_length,), dtype=tf.int32)\n",
    "\n",
    "# Load the pre-trained GPT-2 model\n",
    "gpt2_model = TFGPT2ForSequenceClassification.from_pretrained('gpt2')\n",
    "\n",
    "# Get the GPT-2 model outputs\n",
    "outputs1 = gpt2_model(input1)['logits']\n",
    "outputs2 = gpt2_model(input2)['logits']\n",
    "\n",
    "lstm_input1 = tf.expand_dims(outputs1[:, -1], axis=1)\n",
    "lstm_input2 = tf.expand_dims(outputs2[:, -1], axis=1)\n",
    "\n",
    "# Apply LSTM layer to input sequences\n",
    "lstm_output1 = Dense(64)(lstm_input1)\n",
    "\n",
    "# Apply LSTM layer to input2 sequences\n",
    "lstm_output2 = Dense(64)(lstm_input2)\n",
    "\n",
    "# Merge the LSTM outputs\n",
    "merged_output = Concatenate()([lstm_output1, lstm_output2])\n",
    "\n",
    "# Add a dense layer for classification\n",
    "dense_output = Dense(1, activation='sigmoid')(merged_output)\n",
    "\n",
    "# Define the model\n",
    "model = Model(inputs=[input1, input2], outputs=dense_output)\n",
    "\n",
    "# Compile the model\n",
    "model.compile(loss='binary_crossentropy', optimizer='adam', metrics=['accuracy'])\n",
    "\n",
    "# Print the model summary\n",
    "model.summary()"
   ]
  },
  {
   "cell_type": "code",
   "execution_count": 9,
   "metadata": {},
   "outputs": [
    {
     "name": "stdout",
     "output_type": "stream",
     "text": [
      "Epoch 1/10\n"
     ]
    },
    {
     "ename": "",
     "evalue": "",
     "output_type": "error",
     "traceback": [
      "\u001b[1;31mFailed to interrupt the Kernel. \n",
      "\u001b[1;31mUnable to start Kernel 'base (Python 3.10.9)' due to connection timeout. \n",
      "\u001b[1;31mView Jupyter <a href='command:jupyter.viewOutput'>log</a> for further details."
     ]
    }
   ],
   "source": [
    "# Train the model\n",
    "model.fit(\n",
    "    x=[X_train_sequences['input_ids'], X_train_sequences['attention_mask']],\n",
    "    y=y_train,\n",
    "    batch_size=32,\n",
    "    epochs=10,\n",
    "    validation_data=(\n",
    "        [X_test_sequences['input_ids'], X_test_sequences['attention_mask']],\n",
    "        y_test\n",
    "    )\n",
    ")"
   ]
  },
  {
   "cell_type": "code",
   "execution_count": 64,
   "metadata": {},
   "outputs": [
    {
     "name": "stdout",
     "output_type": "stream",
     "text": [
      "4/4 [==============================] - 0s 3ms/step - loss: 4069.1716 - accuracy: 0.7200\n",
      "Test Loss: 4069.171630859375\n",
      "Test Accuracy: 0.7200000286102295\n"
     ]
    }
   ],
   "source": [
    "loss, accuracy = model.evaluate(\n",
    "    x=[X_test_sequences['input_ids'], X_test_sequences['attention_mask']],\n",
    "    y=y_test,\n",
    "    batch_size=32\n",
    ")\n",
    "\n",
    "# Print the evaluation results\n",
    "print(\"Test Loss:\", loss)\n",
    "print(\"Test Accuracy:\", accuracy)"
   ]
  },
  {
   "cell_type": "code",
   "execution_count": 65,
   "metadata": {},
   "outputs": [
    {
     "name": "stdout",
     "output_type": "stream",
     "text": [
      "4/4 [==============================] - 0s 3ms/step\n"
     ]
    },
    {
     "data": {
      "image/png": "[encoded data removed]",
      "text/plain": [
       "<Figure size 800x800 with 1 Axes>"
      ]
     },
     "metadata": {},
     "output_type": "display_data"
    }
   ],
   "source": [
    "import matplotlib.pyplot as plt\n",
    "import seaborn as sns\n",
    "from sklearn.metrics import confusion_matrix\n",
    "\n",
    "# Model predictions\n",
    "predictions = model.predict([X_test_sequences['input_ids'], X_test_sequences['attention_mask']])\n",
    "predicted_labels = (predictions > 0.5).astype(int)\n",
    "\n",
    "# Create confusion matrix\n",
    "cm = confusion_matrix(y_test, predicted_labels)\n",
    "\n",
    "# Get class labels\n",
    "class_labels = [\"0\", \"1\"]\n",
    "\n",
    "# Create figure\n",
    "plt.figure(figsize=(8, 8))\n",
    "ax = plt.gca()\n",
    "\n",
    "# Create heatmap with seaborn\n",
    "sns.heatmap(cm, annot=True, fmt='d', cmap='Blues', cbar=False, ax=ax)\n",
    "\n",
    "# Add labels to axis\n",
    "ax.set_xlabel('Predicted labels')\n",
    "ax.set_ylabel('True labels')\n",
    "ax.set_title('Confusion Matrix')\n",
    "ax.set_xticklabels(class_labels, rotation=90)\n",
    "ax.set_yticklabels(class_labels, rotation=0)\n",
    "\n",
    "# Show confusion matrix\n",
    "plt.show()\n"
   ]
  }
 ],
 "metadata": {
  "colab": {
   "provenance": []
  },
  "kernelspec": {
   "display_name": "Python 3 (ipykernel)",
   "language": "python",
   "name": "python3"
  },
  "language_info": {
   "codemirror_mode": {
    "name": "ipython",
    "version": 3
   },
   "file_extension": ".py",
   "mimetype": "text/x-python",
   "name": "python",
   "nbconvert_exporter": "python",
   "pygments_lexer": "ipython3",
   "version": "3.10.9"
  }
 },
 "nbformat": 4,
 "nbformat_minor": 1
}
