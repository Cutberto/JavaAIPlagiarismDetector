{
 "cells": [
  {
   "attachments": {},
   "cell_type": "markdown",
   "metadata": {},
   "source": [
    "# Java Plagiarism Detector"
   ]
  },
  {
   "attachments": {},
   "cell_type": "markdown",
   "metadata": {},
   "source": [
    "Import Lexer analyzer and source code to analyze"
   ]
  },
  {
   "cell_type": "code",
   "execution_count": 4,
   "metadata": {
    "id": "0JWZPOS1nJLH",
    "scrolled": false
   },
   "outputs": [],
   "source": [
    "from java_lexer import Lexer\n",
    "from source_codes import SOURCE_CODE2, SOURCE_CODE1, SOURCE_CODE3, SOURCE_CODE4"
   ]
  },
  {
   "attachments": {},
   "cell_type": "markdown",
   "metadata": {},
   "source": [
    "Call Lexer class and obtain all tokens from source code"
   ]
  },
  {
   "cell_type": "code",
   "execution_count": 5,
   "metadata": {},
   "outputs": [
    {
     "data": {
      "text/html": [
       "<div>\n",
       "<style scoped>\n",
       "    .dataframe tbody tr th:only-of-type {\n",
       "        vertical-align: middle;\n",
       "    }\n",
       "\n",
       "    .dataframe tbody tr th {\n",
       "        vertical-align: top;\n",
       "    }\n",
       "\n",
       "    .dataframe thead th {\n",
       "        text-align: right;\n",
       "    }\n",
       "</style>\n",
       "<table border=\"1\" class=\"dataframe\">\n",
       "  <thead>\n",
       "    <tr style=\"text-align: right;\">\n",
       "      <th></th>\n",
       "      <th>code1</th>\n",
       "      <th>code2</th>\n",
       "      <th>plagium</th>\n",
       "    </tr>\n",
       "  </thead>\n",
       "  <tbody>\n",
       "    <tr>\n",
       "      <th>0</th>\n",
       "      <td>IMPORT import java.io.BufferedReader; IMPORT i...</td>\n",
       "      <td>IMPORT import java.io.IOException; IMPORT impo...</td>\n",
       "      <td>0</td>\n",
       "    </tr>\n",
       "    <tr>\n",
       "      <th>1</th>\n",
       "      <td>IDENTIFIER  IDENTIFIER  PUNCTUATION . IDENTIFI...</td>\n",
       "      <td>IDENTIFIER  IDENTIFIER  PUNCTUATION . IDENTIFI...</td>\n",
       "      <td>0</td>\n",
       "    </tr>\n",
       "    <tr>\n",
       "      <th>2</th>\n",
       "      <td>IDENTIFIER  IDENTIFIER  PUNCTUATION . IDENTIFI...</td>\n",
       "      <td>IDENTIFIER  IDENTIFIER  PUNCTUATION . IDENTIFI...</td>\n",
       "      <td>0</td>\n",
       "    </tr>\n",
       "    <tr>\n",
       "      <th>3</th>\n",
       "      <td>IDENTIFIER  IDENTIFIER  PUNCTUATION . IDENTIFI...</td>\n",
       "      <td>IDENTIFIER  IDENTIFIER  PUNCTUATION . IDENTIFI...</td>\n",
       "      <td>0</td>\n",
       "    </tr>\n",
       "    <tr>\n",
       "      <th>4</th>\n",
       "      <td>IMPORT import java.io.BufferedReader; IMPORT i...</td>\n",
       "      <td>IDENTIFIER  KEYWORD static IDENTIFIER  PUNCTUA...</td>\n",
       "      <td>0</td>\n",
       "    </tr>\n",
       "    <tr>\n",
       "      <th>...</th>\n",
       "      <td>...</td>\n",
       "      <td>...</td>\n",
       "      <td>...</td>\n",
       "    </tr>\n",
       "    <tr>\n",
       "      <th>491</th>\n",
       "      <td>IDENTIFIER  IDENTIFIER  PUNCTUATION . IDENTIFI...</td>\n",
       "      <td>IDENTIFIER  IDENTIFIER  PUNCTUATION . IDENTIFI...</td>\n",
       "      <td>1</td>\n",
       "    </tr>\n",
       "    <tr>\n",
       "      <th>492</th>\n",
       "      <td>IDENTIFIER  IDENTIFIER  PUNCTUATION . IDENTIFI...</td>\n",
       "      <td>IMPORT import java.io.BufferedReader; IMPORT i...</td>\n",
       "      <td>1</td>\n",
       "    </tr>\n",
       "    <tr>\n",
       "      <th>493</th>\n",
       "      <td>IDENTIFIER  IDENTIFIER  PUNCTUATION . IDENTIFI...</td>\n",
       "      <td>IDENTIFIER  IDENTIFIER  PUNCTUATION . IDENTIFI...</td>\n",
       "      <td>1</td>\n",
       "    </tr>\n",
       "    <tr>\n",
       "      <th>494</th>\n",
       "      <td>IDENTIFIER  IDENTIFIER  PUNCTUATION . IDENTIFI...</td>\n",
       "      <td>IMPORT import java.io.BufferedReader; IMPORT i...</td>\n",
       "      <td>1</td>\n",
       "    </tr>\n",
       "    <tr>\n",
       "      <th>495</th>\n",
       "      <td>IDENTIFIER  IDENTIFIER  PUNCTUATION . IDENTIFI...</td>\n",
       "      <td>IDENTIFIER  IDENTIFIER  PUNCTUATION . IDENTIFI...</td>\n",
       "      <td>1</td>\n",
       "    </tr>\n",
       "  </tbody>\n",
       "</table>\n",
       "<p>496 rows × 3 columns</p>\n",
       "</div>"
      ],
      "text/plain": [
       "                                                 code1  \\\n",
       "0    IMPORT import java.io.BufferedReader; IMPORT i...   \n",
       "1    IDENTIFIER  IDENTIFIER  PUNCTUATION . IDENTIFI...   \n",
       "2    IDENTIFIER  IDENTIFIER  PUNCTUATION . IDENTIFI...   \n",
       "3    IDENTIFIER  IDENTIFIER  PUNCTUATION . IDENTIFI...   \n",
       "4    IMPORT import java.io.BufferedReader; IMPORT i...   \n",
       "..                                                 ...   \n",
       "491  IDENTIFIER  IDENTIFIER  PUNCTUATION . IDENTIFI...   \n",
       "492  IDENTIFIER  IDENTIFIER  PUNCTUATION . IDENTIFI...   \n",
       "493  IDENTIFIER  IDENTIFIER  PUNCTUATION . IDENTIFI...   \n",
       "494  IDENTIFIER  IDENTIFIER  PUNCTUATION . IDENTIFI...   \n",
       "495  IDENTIFIER  IDENTIFIER  PUNCTUATION . IDENTIFI...   \n",
       "\n",
       "                                                 code2  plagium  \n",
       "0    IMPORT import java.io.IOException; IMPORT impo...        0  \n",
       "1    IDENTIFIER  IDENTIFIER  PUNCTUATION . IDENTIFI...        0  \n",
       "2    IDENTIFIER  IDENTIFIER  PUNCTUATION . IDENTIFI...        0  \n",
       "3    IDENTIFIER  IDENTIFIER  PUNCTUATION . IDENTIFI...        0  \n",
       "4    IDENTIFIER  KEYWORD static IDENTIFIER  PUNCTUA...        0  \n",
       "..                                                 ...      ...  \n",
       "491  IDENTIFIER  IDENTIFIER  PUNCTUATION . IDENTIFI...        1  \n",
       "492  IMPORT import java.io.BufferedReader; IMPORT i...        1  \n",
       "493  IDENTIFIER  IDENTIFIER  PUNCTUATION . IDENTIFI...        1  \n",
       "494  IMPORT import java.io.BufferedReader; IMPORT i...        1  \n",
       "495  IDENTIFIER  IDENTIFIER  PUNCTUATION . IDENTIFI...        1  \n",
       "\n",
       "[496 rows x 3 columns]"
      ]
     },
     "execution_count": 5,
     "metadata": {},
     "output_type": "execute_result"
    }
   ],
   "source": [
    "\n",
    "import pandas as pd\n",
    "\n",
    "# Read CSV file\n",
    "data = pd.read_csv('downsampled_dataset_separado.csv')\n",
    "\n",
    "# Extract columns from CSV\n",
    "column_names = ['code1', 'code2', 'plagium']\n",
    "columns_data = data[column_names]\n",
    "\n",
    "# Create a new DataFrame with the extracted column\n",
    "downsampled_dataset = pd.DataFrame(columns_data)\n",
    "\n",
    "downsampled_dataset"
   ]
  },
  {
   "cell_type": "code",
   "execution_count": 6,
   "metadata": {},
   "outputs": [
    {
     "name": "stdout",
     "output_type": "stream",
     "text": [
      "non plagium samples 248\n",
      "plagium samples 248\n"
     ]
    }
   ],
   "source": [
    "print(\"non plagium samples\",(downsampled_dataset['plagium'] == 0).sum())\n",
    "\n",
    "print(\"plagium samples\", (downsampled_dataset['plagium'] == 1).sum())\n"
   ]
  },
  {
   "cell_type": "code",
   "execution_count": 7,
   "metadata": {},
   "outputs": [],
   "source": [
    "from sklearn.model_selection import train_test_split\n",
    "proceesed_data_df = pd.DataFrame(downsampled_dataset)\n",
    "\n",
    "\n",
    "train_df, test_df = train_test_split(\n",
    "        proceesed_data_df,\n",
    "        test_size=0.2,\n",
    "        random_state=202\n",
    ")"
   ]
  },
  {
   "cell_type": "code",
   "execution_count": 8,
   "metadata": {},
   "outputs": [
    {
     "data": {
      "text/html": [
       "<div>\n",
       "<style scoped>\n",
       "    .dataframe tbody tr th:only-of-type {\n",
       "        vertical-align: middle;\n",
       "    }\n",
       "\n",
       "    .dataframe tbody tr th {\n",
       "        vertical-align: top;\n",
       "    }\n",
       "\n",
       "    .dataframe thead th {\n",
       "        text-align: right;\n",
       "    }\n",
       "</style>\n",
       "<table border=\"1\" class=\"dataframe\">\n",
       "  <thead>\n",
       "    <tr style=\"text-align: right;\">\n",
       "      <th></th>\n",
       "      <th>code1</th>\n",
       "      <th>code2</th>\n",
       "      <th>plagium</th>\n",
       "    </tr>\n",
       "  </thead>\n",
       "  <tbody>\n",
       "    <tr>\n",
       "      <th>244</th>\n",
       "      <td>IDENTIFIER  IDENTIFIER  PUNCTUATION . IDENTIFI...</td>\n",
       "      <td>IDENTIFIER  IDENTIFIER  PUNCTUATION . IDENTIFI...</td>\n",
       "      <td>0</td>\n",
       "    </tr>\n",
       "    <tr>\n",
       "      <th>399</th>\n",
       "      <td>IDENTIFIER  IDENTIFIER  PUNCTUATION . IDENTIFI...</td>\n",
       "      <td>IDENTIFIER  IDENTIFIER  PUNCTUATION . IDENTIFI...</td>\n",
       "      <td>1</td>\n",
       "    </tr>\n",
       "    <tr>\n",
       "      <th>69</th>\n",
       "      <td>IMPORT import java.io.BufferedReader; IMPORT i...</td>\n",
       "      <td>IDENTIFIER  IDENTIFIER  PUNCTUATION . IDENTIFI...</td>\n",
       "      <td>0</td>\n",
       "    </tr>\n",
       "    <tr>\n",
       "      <th>416</th>\n",
       "      <td>IDENTIFIER  IDENTIFIER  PUNCTUATION . IDENTIFI...</td>\n",
       "      <td>IDENTIFIER  IDENTIFIER  PUNCTUATION . IDENTIFI...</td>\n",
       "      <td>1</td>\n",
       "    </tr>\n",
       "    <tr>\n",
       "      <th>219</th>\n",
       "      <td>IDENTIFIER  IDENTIFIER  PUNCTUATION . IDENTIFI...</td>\n",
       "      <td>IDENTIFIER  IDENTIFIER  PUNCTUATION . IDENTIFI...</td>\n",
       "      <td>0</td>\n",
       "    </tr>\n",
       "    <tr>\n",
       "      <th>...</th>\n",
       "      <td>...</td>\n",
       "      <td>...</td>\n",
       "      <td>...</td>\n",
       "    </tr>\n",
       "    <tr>\n",
       "      <th>296</th>\n",
       "      <td>IMPORT import java.util.Scanner; KEYWORD publi...</td>\n",
       "      <td>IMPORT import java.util.Scanner; KEYWORD publi...</td>\n",
       "      <td>1</td>\n",
       "    </tr>\n",
       "    <tr>\n",
       "      <th>460</th>\n",
       "      <td>IDENTIFIER  IDENTIFIER  PUNCTUATION . IDENTIFI...</td>\n",
       "      <td>IDENTIFIER  IDENTIFIER  PUNCTUATION . IDENTIFI...</td>\n",
       "      <td>1</td>\n",
       "    </tr>\n",
       "    <tr>\n",
       "      <th>60</th>\n",
       "      <td>IDENTIFIER  IDENTIFIER  PUNCTUATION . IDENTIFI...</td>\n",
       "      <td>IDENTIFIER  IDENTIFIER  PUNCTUATION . IDENTIFI...</td>\n",
       "      <td>0</td>\n",
       "    </tr>\n",
       "    <tr>\n",
       "      <th>151</th>\n",
       "      <td>IDENTIFIER  IDENTIFIER  PUNCTUATION . IDENTIFI...</td>\n",
       "      <td>IDENTIFIER  IDENTIFIER  PUNCTUATION . IDENTIFI...</td>\n",
       "      <td>0</td>\n",
       "    </tr>\n",
       "    <tr>\n",
       "      <th>403</th>\n",
       "      <td>IDENTIFIER  IDENTIFIER  PUNCTUATION . IDENTIFI...</td>\n",
       "      <td>IDENTIFIER  IDENTIFIER  PUNCTUATION . IDENTIFI...</td>\n",
       "      <td>1</td>\n",
       "    </tr>\n",
       "  </tbody>\n",
       "</table>\n",
       "<p>396 rows × 3 columns</p>\n",
       "</div>"
      ],
      "text/plain": [
       "                                                 code1  \\\n",
       "244  IDENTIFIER  IDENTIFIER  PUNCTUATION . IDENTIFI...   \n",
       "399  IDENTIFIER  IDENTIFIER  PUNCTUATION . IDENTIFI...   \n",
       "69   IMPORT import java.io.BufferedReader; IMPORT i...   \n",
       "416  IDENTIFIER  IDENTIFIER  PUNCTUATION . IDENTIFI...   \n",
       "219  IDENTIFIER  IDENTIFIER  PUNCTUATION . IDENTIFI...   \n",
       "..                                                 ...   \n",
       "296  IMPORT import java.util.Scanner; KEYWORD publi...   \n",
       "460  IDENTIFIER  IDENTIFIER  PUNCTUATION . IDENTIFI...   \n",
       "60   IDENTIFIER  IDENTIFIER  PUNCTUATION . IDENTIFI...   \n",
       "151  IDENTIFIER  IDENTIFIER  PUNCTUATION . IDENTIFI...   \n",
       "403  IDENTIFIER  IDENTIFIER  PUNCTUATION . IDENTIFI...   \n",
       "\n",
       "                                                 code2  plagium  \n",
       "244  IDENTIFIER  IDENTIFIER  PUNCTUATION . IDENTIFI...        0  \n",
       "399  IDENTIFIER  IDENTIFIER  PUNCTUATION . IDENTIFI...        1  \n",
       "69   IDENTIFIER  IDENTIFIER  PUNCTUATION . IDENTIFI...        0  \n",
       "416  IDENTIFIER  IDENTIFIER  PUNCTUATION . IDENTIFI...        1  \n",
       "219  IDENTIFIER  IDENTIFIER  PUNCTUATION . IDENTIFI...        0  \n",
       "..                                                 ...      ...  \n",
       "296  IMPORT import java.util.Scanner; KEYWORD publi...        1  \n",
       "460  IDENTIFIER  IDENTIFIER  PUNCTUATION . IDENTIFI...        1  \n",
       "60   IDENTIFIER  IDENTIFIER  PUNCTUATION . IDENTIFI...        0  \n",
       "151  IDENTIFIER  IDENTIFIER  PUNCTUATION . IDENTIFI...        0  \n",
       "403  IDENTIFIER  IDENTIFIER  PUNCTUATION . IDENTIFI...        1  \n",
       "\n",
       "[396 rows x 3 columns]"
      ]
     },
     "execution_count": 8,
     "metadata": {},
     "output_type": "execute_result"
    }
   ],
   "source": [
    "train_df"
   ]
  },
  {
   "cell_type": "code",
   "execution_count": 9,
   "metadata": {},
   "outputs": [
    {
     "name": "stdout",
     "output_type": "stream",
     "text": [
      "non plagium samples 196\n",
      "plagium samples 200\n"
     ]
    }
   ],
   "source": [
    "print(\"non plagium samples\",(train_df['plagium'] == 0).sum())\n",
    "\n",
    "print(\"plagium samples\", (train_df['plagium'] == 1).sum())\n"
   ]
  },
  {
   "cell_type": "code",
   "execution_count": 10,
   "metadata": {},
   "outputs": [
    {
     "name": "stdout",
     "output_type": "stream",
     "text": [
      "396\n",
      "396\n"
     ]
    }
   ],
   "source": [
    "X_train = train_df[[\"code1\",\"code2\"]]\n",
    "X_test = test_df[[\"code1\",\"code2\"]]\n",
    "y_train = train_df[[\"plagium\"]]\n",
    "y_test = test_df[[\"plagium\"]]\n",
    "\n",
    "print(len(X_train))\n",
    "print(len(y_train))"
   ]
  },
  {
   "cell_type": "code",
   "execution_count": 11,
   "metadata": {},
   "outputs": [
    {
     "name": "stderr",
     "output_type": "stream",
     "text": [
      "All model checkpoint layers were used when initializing TFGPT2ForSequenceClassification.\n",
      "\n",
      "Some layers of TFGPT2ForSequenceClassification were not initialized from the model checkpoint at gpt2 and are newly initialized: ['score']\n",
      "You should probably TRAIN this model on a down-stream task to be able to use it for predictions and inference.\n"
     ]
    },
    {
     "name": "stdout",
     "output_type": "stream",
     "text": [
      "Model: \"model\"\n",
      "__________________________________________________________________________________________________\n",
      " Layer (type)                   Output Shape         Param #     Connected to                     \n",
      "==================================================================================================\n",
      " input_1 (InputLayer)           [(None, 1000)]       0           []                               \n",
      "                                                                                                  \n",
      " input_2 (InputLayer)           [(None, 1000)]       0           []                               \n",
      "                                                                                                  \n",
      " dense (Dense)                  (None, 64)           64064       ['input_1[0][0]']                \n",
      "                                                                                                  \n",
      " dense_2 (Dense)                (None, 64)           64064       ['input_2[0][0]']                \n",
      "                                                                                                  \n",
      " dense_1 (Dense)                (None, 64)           4160        ['dense[0][0]']                  \n",
      "                                                                                                  \n",
      " dense_3 (Dense)                (None, 64)           4160        ['dense_2[0][0]']                \n",
      "                                                                                                  \n",
      " concatenate (Concatenate)      (None, 128)          0           ['dense_1[0][0]',                \n",
      "                                                                  'dense_3[0][0]']                \n",
      "                                                                                                  \n",
      " dense_4 (Dense)                (None, 1)            129         ['concatenate[0][0]']            \n",
      "                                                                                                  \n",
      "==================================================================================================\n",
      "Total params: 136,577\n",
      "Trainable params: 136,577\n",
      "Non-trainable params: 0\n",
      "__________________________________________________________________________________________________\n"
     ]
    }
   ],
   "source": [
    "import tensorflow as tf\n",
    "from tensorflow.keras.preprocessing.sequence import pad_sequences\n",
    "from tensorflow.keras.models import Model\n",
    "from tensorflow.keras.layers import *\n",
    "from transformers import TFGPT2ForSequenceClassification, GPT2Tokenizer\n",
    "import numpy as np\n",
    "\n",
    "# Define the maximum sequence length\n",
    "max_sequence_length = 1000\n",
    "\n",
    "# Create the GPT-2 tokenizer\n",
    "tokenizer = GPT2Tokenizer.from_pretrained('gpt2')\n",
    "\n",
    "# Convert the text data to sequences\n",
    "X_train_flattened = X_train[\"code1\"] + X_train[\"code2\"]\n",
    "tokenizer.pad_token = tokenizer.eos_token\n",
    "X_train_sequences = tokenizer.batch_encode_plus(X_train_flattened,\n",
    "                                                padding=True,\n",
    "                                                truncation=True,\n",
    "                                                max_length=max_sequence_length,\n",
    "                                                return_tensors='tf')\n",
    "\n",
    "X_test_flattened = X_test[\"code1\"] + X_test[\"code2\"]\n",
    "X_test_sequences = tokenizer.batch_encode_plus(X_test_flattened,\n",
    "                                               padding=True,\n",
    "                                               truncation=True,\n",
    "                                               max_length=max_sequence_length,\n",
    "                                               return_tensors='tf')\n",
    "\n",
    "# Convert y_train and y_test to numpy arrays\n",
    "y_train = np.array(y_train)\n",
    "y_test = np.array(y_test)\n",
    "\n",
    "# Define the inputs\n",
    "input1 = Input(shape=(max_sequence_length,), dtype=tf.int32)\n",
    "input2 = Input(shape=(max_sequence_length,), dtype=tf.int32)\n",
    "\n",
    "# Load the pre-trained GPT-2 model\n",
    "gpt2_model = TFGPT2ForSequenceClassification.from_pretrained('gpt2')\n",
    "\n",
    "# Get the GPT-2 model outputs\n",
    "outputs = gpt2_model(input1)['logits']\n",
    "\n",
    "# Apply Dense layer to input sequences\n",
    "dense_output1 = Dense(64)(input1)\n",
    "\n",
    "dense_output1 = Dense(64)(dense_output1)\n",
    "\n",
    "# Apply Dense layer to input sequences\n",
    "dense_output2 = Dense(64)(input2)\n",
    "\n",
    "dense_output2 = Dense(64)(dense_output2)\n",
    "\n",
    "# Merge the Dense outputs\n",
    "merged_output = Concatenate()([dense_output1, dense_output2])\n",
    "\n",
    "\n",
    "# Add a dense layer for classification\n",
    "dense_output = Dense(1, activation='sigmoid')(merged_output)\n",
    "\n",
    "# Define the model\n",
    "model = Model(inputs=[input1, input2], outputs=dense_output)\n",
    "\n",
    "# Compile the model\n",
    "model.compile(loss='binary_crossentropy', optimizer='adam', metrics=['accuracy'])\n",
    "\n",
    "# Print the model summary\n",
    "model.summary()"
   ]
  },
  {
   "cell_type": "code",
   "execution_count": 72,
   "metadata": {},
   "outputs": [
    {
     "name": "stdout",
     "output_type": "stream",
     "text": [
      "Epoch 1/40\n",
      "13/13 [==============================] - 2s 32ms/step - loss: 8233.1504 - accuracy: 0.5152 - val_loss: 6543.3687 - val_accuracy: 0.5200\n",
      "Epoch 2/40\n",
      "13/13 [==============================] - 0s 9ms/step - loss: 2516.5425 - accuracy: 0.6818 - val_loss: 3091.7756 - val_accuracy: 0.6000\n",
      "Epoch 3/40\n",
      "13/13 [==============================] - 0s 8ms/step - loss: 1542.6753 - accuracy: 0.7601 - val_loss: 2805.0967 - val_accuracy: 0.6400\n",
      "Epoch 4/40\n",
      "13/13 [==============================] - 0s 8ms/step - loss: 578.7358 - accuracy: 0.8561 - val_loss: 2355.4272 - val_accuracy: 0.6800\n",
      "Epoch 5/40\n",
      "13/13 [==============================] - 0s 8ms/step - loss: 308.5219 - accuracy: 0.8889 - val_loss: 2099.9746 - val_accuracy: 0.6600\n",
      "Epoch 6/40\n",
      "13/13 [==============================] - 0s 6ms/step - loss: 299.3088 - accuracy: 0.9015 - val_loss: 2070.0771 - val_accuracy: 0.6800\n",
      "Epoch 7/40\n",
      "13/13 [==============================] - 0s 6ms/step - loss: 213.8318 - accuracy: 0.9167 - val_loss: 1934.6497 - val_accuracy: 0.6500\n",
      "Epoch 8/40\n",
      "13/13 [==============================] - 0s 6ms/step - loss: 174.7440 - accuracy: 0.9242 - val_loss: 2061.9629 - val_accuracy: 0.6900\n",
      "Epoch 9/40\n",
      "13/13 [==============================] - 0s 6ms/step - loss: 150.0142 - accuracy: 0.9343 - val_loss: 1878.3169 - val_accuracy: 0.6800\n",
      "Epoch 10/40\n",
      "13/13 [==============================] - 0s 6ms/step - loss: 163.1224 - accuracy: 0.9394 - val_loss: 1785.8347 - val_accuracy: 0.7000\n",
      "Epoch 11/40\n",
      "13/13 [==============================] - 0s 6ms/step - loss: 171.5306 - accuracy: 0.9394 - val_loss: 1668.9784 - val_accuracy: 0.7400\n",
      "Epoch 12/40\n",
      "13/13 [==============================] - 0s 6ms/step - loss: 109.5797 - accuracy: 0.9571 - val_loss: 1685.6587 - val_accuracy: 0.7200\n",
      "Epoch 13/40\n",
      "13/13 [==============================] - 0s 8ms/step - loss: 131.1632 - accuracy: 0.9571 - val_loss: 1832.5824 - val_accuracy: 0.6900\n",
      "Epoch 14/40\n",
      "13/13 [==============================] - 0s 6ms/step - loss: 121.9146 - accuracy: 0.9293 - val_loss: 1644.9337 - val_accuracy: 0.7500\n",
      "Epoch 15/40\n",
      "13/13 [==============================] - 0s 6ms/step - loss: 129.0972 - accuracy: 0.9394 - val_loss: 1858.5391 - val_accuracy: 0.6600\n",
      "Epoch 16/40\n",
      "13/13 [==============================] - 0s 7ms/step - loss: 124.2182 - accuracy: 0.9646 - val_loss: 1673.8452 - val_accuracy: 0.7000\n",
      "Epoch 17/40\n",
      "13/13 [==============================] - 0s 6ms/step - loss: 107.3077 - accuracy: 0.9520 - val_loss: 1825.6656 - val_accuracy: 0.6900\n",
      "Epoch 18/40\n",
      "13/13 [==============================] - 0s 6ms/step - loss: 128.7697 - accuracy: 0.9596 - val_loss: 1683.4979 - val_accuracy: 0.6700\n",
      "Epoch 19/40\n",
      "13/13 [==============================] - 0s 6ms/step - loss: 91.5200 - accuracy: 0.9621 - val_loss: 1480.3732 - val_accuracy: 0.7200\n",
      "Epoch 20/40\n",
      "13/13 [==============================] - 0s 6ms/step - loss: 99.9787 - accuracy: 0.9545 - val_loss: 1592.9491 - val_accuracy: 0.6800\n",
      "Epoch 21/40\n",
      "13/13 [==============================] - 0s 6ms/step - loss: 101.1242 - accuracy: 0.9394 - val_loss: 1495.5637 - val_accuracy: 0.7100\n",
      "Epoch 22/40\n",
      "13/13 [==============================] - 0s 5ms/step - loss: 101.2552 - accuracy: 0.9545 - val_loss: 1440.7577 - val_accuracy: 0.7400\n",
      "Epoch 23/40\n",
      "13/13 [==============================] - 0s 5ms/step - loss: 121.1861 - accuracy: 0.9040 - val_loss: 1366.6067 - val_accuracy: 0.7000\n",
      "Epoch 24/40\n",
      "13/13 [==============================] - 0s 5ms/step - loss: 86.0764 - accuracy: 0.9394 - val_loss: 1356.6735 - val_accuracy: 0.7000\n",
      "Epoch 25/40\n",
      "13/13 [==============================] - 0s 5ms/step - loss: 71.4426 - accuracy: 0.9596 - val_loss: 1598.4739 - val_accuracy: 0.6500\n",
      "Epoch 26/40\n",
      "13/13 [==============================] - 0s 6ms/step - loss: 52.6994 - accuracy: 0.9596 - val_loss: 1485.2677 - val_accuracy: 0.6900\n",
      "Epoch 27/40\n",
      "13/13 [==============================] - 0s 5ms/step - loss: 99.4813 - accuracy: 0.9571 - val_loss: 1573.9985 - val_accuracy: 0.7000\n",
      "Epoch 28/40\n",
      "13/13 [==============================] - 0s 7ms/step - loss: 112.7467 - accuracy: 0.9596 - val_loss: 1372.8326 - val_accuracy: 0.7400\n",
      "Epoch 29/40\n",
      "13/13 [==============================] - 0s 5ms/step - loss: 78.8419 - accuracy: 0.9419 - val_loss: 1449.7484 - val_accuracy: 0.7600\n",
      "Epoch 30/40\n",
      "13/13 [==============================] - 0s 5ms/step - loss: 148.8296 - accuracy: 0.9217 - val_loss: 1415.7673 - val_accuracy: 0.7100\n",
      "Epoch 31/40\n",
      "13/13 [==============================] - 0s 6ms/step - loss: 121.4512 - accuracy: 0.9343 - val_loss: 1495.6583 - val_accuracy: 0.6600\n",
      "Epoch 32/40\n",
      "13/13 [==============================] - 0s 5ms/step - loss: 177.6144 - accuracy: 0.9192 - val_loss: 1531.8517 - val_accuracy: 0.6400\n",
      "Epoch 33/40\n",
      "13/13 [==============================] - 0s 5ms/step - loss: 82.5964 - accuracy: 0.9495 - val_loss: 1350.1011 - val_accuracy: 0.7300\n",
      "Epoch 34/40\n",
      "13/13 [==============================] - 0s 5ms/step - loss: 68.1304 - accuracy: 0.9646 - val_loss: 1402.3489 - val_accuracy: 0.7200\n",
      "Epoch 35/40\n",
      "13/13 [==============================] - 0s 5ms/step - loss: 153.6658 - accuracy: 0.9369 - val_loss: 1403.0437 - val_accuracy: 0.7200\n",
      "Epoch 36/40\n",
      "13/13 [==============================] - 0s 5ms/step - loss: 128.6809 - accuracy: 0.9343 - val_loss: 1636.8762 - val_accuracy: 0.6400\n",
      "Epoch 37/40\n",
      "13/13 [==============================] - 0s 6ms/step - loss: 151.0387 - accuracy: 0.9217 - val_loss: 1550.8839 - val_accuracy: 0.7000\n",
      "Epoch 38/40\n",
      "13/13 [==============================] - 0s 5ms/step - loss: 63.3210 - accuracy: 0.9545 - val_loss: 1737.2131 - val_accuracy: 0.7200\n",
      "Epoch 39/40\n",
      "13/13 [==============================] - 0s 5ms/step - loss: 101.0193 - accuracy: 0.9571 - val_loss: 1752.5858 - val_accuracy: 0.7100\n",
      "Epoch 40/40\n",
      "13/13 [==============================] - 0s 6ms/step - loss: 81.3638 - accuracy: 0.9747 - val_loss: 1599.0953 - val_accuracy: 0.7600\n"
     ]
    },
    {
     "data": {
      "text/plain": [
       "<keras.callbacks.History at 0x16d08689900>"
      ]
     },
     "execution_count": 72,
     "metadata": {},
     "output_type": "execute_result"
    }
   ],
   "source": [
    "# Train the model\n",
    "model.fit(\n",
    "    x=[X_train_sequences['input_ids'], X_train_sequences['attention_mask']],\n",
    "    y=y_train,\n",
    "    batch_size=32,\n",
    "    epochs=40,\n",
    "    validation_data=(\n",
    "        [X_test_sequences['input_ids'], X_test_sequences['attention_mask']],\n",
    "        y_test\n",
    "    )\n",
    ")"
   ]
  },
  {
   "cell_type": "code",
   "execution_count": 13,
   "metadata": {},
   "outputs": [
    {
     "data": {
      "text/plain": [
       "<tensorflow.python.checkpoint.checkpoint.CheckpointLoadStatus at 0x1cf0542ccd0>"
      ]
     },
     "execution_count": 13,
     "metadata": {},
     "output_type": "execute_result"
    }
   ],
   "source": [
    "model.load_weights('./GPT_model/balanced_model')"
   ]
  },
  {
   "cell_type": "code",
   "execution_count": 79,
   "metadata": {},
   "outputs": [],
   "source": [
    "model.save_weights('./GPT_model/balanced_model')"
   ]
  },
  {
   "cell_type": "code",
   "execution_count": null,
   "metadata": {},
   "outputs": [],
   "source": []
  },
  {
   "cell_type": "code",
   "execution_count": 14,
   "metadata": {},
   "outputs": [
    {
     "name": "stdout",
     "output_type": "stream",
     "text": [
      "4/4 [==============================] - 0s 4ms/step - loss: 1599.0953 - accuracy: 0.7600\n",
      "Test Loss: 1599.0953369140625\n",
      "Test Accuracy: 0.7599999904632568\n"
     ]
    }
   ],
   "source": [
    "loss, accuracy = model.evaluate(\n",
    "    x=[X_test_sequences['input_ids'], X_test_sequences['attention_mask']],\n",
    "    y=y_test,\n",
    "    batch_size=32\n",
    ")\n",
    "\n",
    "# Print the evaluation results\n",
    "print(\"Test Loss:\", loss)\n",
    "print(\"Test Accuracy:\", accuracy)"
   ]
  },
  {
   "cell_type": "code",
   "execution_count": 15,
   "metadata": {},
   "outputs": [
    {
     "name": "stdout",
     "output_type": "stream",
     "text": [
      "4/4 [==============================] - 0s 2ms/step\n"
     ]
    },
    {
     "data": {
      "image/png": "[encoded data removed]",
      "text/plain": [
       "<Figure size 800x800 with 1 Axes>"
      ]
     },
     "metadata": {},
     "output_type": "display_data"
    }
   ],
   "source": [
    "import matplotlib.pyplot as plt\n",
    "import seaborn as sns\n",
    "from sklearn.metrics import confusion_matrix\n",
    "\n",
    "# Model predictions\n",
    "predictions = model.predict([X_test_sequences['input_ids'], X_test_sequences['attention_mask']])\n",
    "predicted_labels = (predictions > 0.5).astype(int)\n",
    "\n",
    "# Create confusion matrix\n",
    "cm = confusion_matrix(y_test, predicted_labels)\n",
    "\n",
    "# Get class labels\n",
    "class_labels = [\"0\", \"1\"]\n",
    "\n",
    "# Create figure\n",
    "plt.figure(figsize=(8, 8))\n",
    "ax = plt.gca()\n",
    "\n",
    "# Create heatmap with seaborn\n",
    "sns.heatmap(cm, annot=True, fmt='d', cmap='Blues', cbar=False, ax=ax)\n",
    "\n",
    "# Add labels to axis\n",
    "ax.set_xlabel('Predicted labels')\n",
    "ax.set_ylabel('True labels')\n",
    "ax.set_title('Confusion Matrix')\n",
    "ax.set_xticklabels(class_labels, rotation=90)\n",
    "ax.set_yticklabels(class_labels, rotation=0)\n",
    "\n",
    "# Show confusion matrix\n",
    "plt.show()\n"
   ]
  }
 ],
 "metadata": {
  "colab": {
   "provenance": []
  },
  "kernelspec": {
   "display_name": "Python 3 (ipykernel)",
   "language": "python",
   "name": "python3"
  },
  "language_info": {
   "codemirror_mode": {
    "name": "ipython",
    "version": 3
   },
   "file_extension": ".py",
   "mimetype": "text/x-python",
   "name": "python",
   "nbconvert_exporter": "python",
   "pygments_lexer": "ipython3",
   "version": "3.10.9"
  }
 },
 "nbformat": 4,
 "nbformat_minor": 1
}
