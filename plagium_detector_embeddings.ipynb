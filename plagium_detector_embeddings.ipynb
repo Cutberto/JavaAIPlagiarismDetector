{
 "cells": [
  {
   "attachments": {},
   "cell_type": "markdown",
   "metadata": {},
   "source": [
    "# Java Plagiarism Detector"
   ]
  },
  {
   "attachments": {},
   "cell_type": "markdown",
   "metadata": {},
   "source": [
    "Import Lexer analyzer and source code to analyze"
   ]
  },
  {
   "cell_type": "code",
   "execution_count": 1,
   "metadata": {
    "id": "0JWZPOS1nJLH",
    "scrolled": false
   },
   "outputs": [],
   "source": [
    "from java_lexer import Lexer\n",
    "from source_codes import SOURCE_CODE2, SOURCE_CODE1, SOURCE_CODE3, SOURCE_CODE4"
   ]
  },
  {
   "attachments": {},
   "cell_type": "markdown",
   "metadata": {},
   "source": [
    "Call Lexer class and obtain all tokens from source code"
   ]
  },
  {
   "cell_type": "code",
   "execution_count": 2,
   "metadata": {},
   "outputs": [],
   "source": [
    "lexer1 = Lexer(SOURCE_CODE3)\n",
    "tokens1 = lexer1.tokenize()"
   ]
  },
  {
   "cell_type": "code",
   "execution_count": 3,
   "metadata": {},
   "outputs": [],
   "source": [
    "lexer2 = Lexer(SOURCE_CODE4)\n",
    "tokens2 = lexer2.tokenize()"
   ]
  },
  {
   "attachments": {},
   "cell_type": "markdown",
   "metadata": {},
   "source": [
    "Print the identified tokens"
   ]
  },
  {
   "cell_type": "code",
   "execution_count": 4,
   "metadata": {},
   "outputs": [
    {
     "name": "stdout",
     "output_type": "stream",
     "text": [
      "KEYWORD: public\n",
      "KEYWORD: class\n",
      "IDENTIFIER: TrueFalseExample\n",
      "PUNCTUATION: {\n",
      "KEYWORD: public\n",
      "KEYWORD: static\n",
      "DATA_TYPE: void\n",
      "IDENTIFIER: main\n",
      "PUNCTUATION: (\n",
      "IDENTIFIER: String\n",
      "PUNCTUATION: [\n",
      "PUNCTUATION: ]\n",
      "IDENTIFIER: args\n",
      "PUNCTUATION: )\n",
      "PUNCTUATION: {\n",
      "DATA_TYPE: boolean\n",
      "IDENTIFIER: isTrue\n",
      "OPERATOR: =\n",
      "BOOLEAN: true\n",
      "PUNCTUATION: ;\n",
      "DATA_TYPE: boolean\n",
      "IDENTIFIER: isFalse\n",
      "OPERATOR: =\n",
      "BOOLEAN: false\n",
      "PUNCTUATION: ;\n",
      "COMMENT_SINGLE: // Utilizando los valores booleanos en condiciones\n",
      "KEYWORD: if\n",
      "PUNCTUATION: (\n",
      "IDENTIFIER: isTrue\n",
      "PUNCTUATION: )\n",
      "PUNCTUATION: {\n",
      "SYSTEM_CALL: System.out.println\n",
      "PUNCTUATION: (\n",
      "STRING: \"Esta condición es verdadera.\"\n",
      "PUNCTUATION: )\n",
      "PUNCTUATION: ;\n",
      "PUNCTUATION: }\n",
      "KEYWORD: if\n",
      "PUNCTUATION: (\n",
      "OPERATOR: !\n",
      "IDENTIFIER: isFalse\n",
      "PUNCTUATION: )\n",
      "PUNCTUATION: {\n",
      "SYSTEM_CALL: System.out.println\n",
      "PUNCTUATION: (\n",
      "STRING: \"Esta condición es verdadera.\"\n",
      "PUNCTUATION: )\n",
      "PUNCTUATION: ;\n",
      "PUNCTUATION: }\n",
      "COMMENT_SINGLE: // Utilizando los valores booleanos en operaciones booleanas\n",
      "DATA_TYPE: boolean\n",
      "IDENTIFIER: result1\n",
      "OPERATOR: =\n",
      "IDENTIFIER: isTrue\n",
      "OPERATOR: &&\n",
      "IDENTIFIER: isFalse\n",
      "PUNCTUATION: ;\n",
      "DATA_TYPE: boolean\n",
      "IDENTIFIER: result2\n",
      "OPERATOR: =\n",
      "IDENTIFIER: isTrue\n",
      "OPERATOR: |\n",
      "OPERATOR: |\n",
      "IDENTIFIER: isFalse\n",
      "PUNCTUATION: ;\n",
      "DATA_TYPE: boolean\n",
      "IDENTIFIER: result3\n",
      "OPERATOR: =\n",
      "OPERATOR: !\n",
      "IDENTIFIER: isFalse\n",
      "PUNCTUATION: ;\n",
      "SYSTEM_CALL: System.out.println\n",
      "PUNCTUATION: (\n",
      "STRING: \"Resultado 1: \"\n",
      "OPERATOR: +\n",
      "IDENTIFIER: result1\n",
      "PUNCTUATION: )\n",
      "PUNCTUATION: ;\n",
      "SYSTEM_CALL: System.out.println\n",
      "PUNCTUATION: (\n",
      "STRING: \"Resultado 2: \"\n",
      "OPERATOR: +\n",
      "IDENTIFIER: result2\n",
      "PUNCTUATION: )\n",
      "PUNCTUATION: ;\n",
      "SYSTEM_CALL: System.out.println\n",
      "PUNCTUATION: (\n",
      "STRING: \"Resultado 3: \"\n",
      "OPERATOR: +\n",
      "IDENTIFIER: result3\n",
      "PUNCTUATION: )\n",
      "PUNCTUATION: ;\n",
      "PUNCTUATION: }\n",
      "PUNCTUATION: }\n"
     ]
    }
   ],
   "source": [
    "for token in tokens1:\n",
    "    print(token.type + ':', token.value)"
   ]
  },
  {
   "cell_type": "code",
   "execution_count": 5,
   "metadata": {},
   "outputs": [
    {
     "name": "stdout",
     "output_type": "stream",
     "text": [
      "KEYWORD: public\n",
      "KEYWORD: class\n",
      "IDENTIFIER: TrueFalseExcercise\n",
      "PUNCTUATION: {\n",
      "KEYWORD: public\n",
      "KEYWORD: static\n",
      "DATA_TYPE: void\n",
      "IDENTIFIER: main\n",
      "PUNCTUATION: (\n",
      "IDENTIFIER: String\n",
      "PUNCTUATION: [\n",
      "PUNCTUATION: ]\n",
      "IDENTIFIER: args\n",
      "PUNCTUATION: )\n",
      "PUNCTUATION: {\n",
      "IDENTIFIER: String\n",
      "IDENTIFIER: nadaquever\n",
      "OPERATOR: =\n",
      "STRING: \"nadaquever\"\n",
      "PUNCTUATION: ;\n",
      "IDENTIFIER: String\n",
      "IDENTIFIER: nadaquever\n",
      "OPERATOR: =\n",
      "STRING: \"nadaquever\"\n",
      "PUNCTUATION: ;\n",
      "IDENTIFIER: String\n",
      "IDENTIFIER: nadaquever\n",
      "OPERATOR: =\n",
      "STRING: \"nadaquever\"\n",
      "PUNCTUATION: ;\n",
      "IDENTIFIER: String\n",
      "IDENTIFIER: nadaquever\n",
      "OPERATOR: =\n",
      "STRING: \"nadaquever\"\n",
      "PUNCTUATION: ;\n",
      "COMMENT_SINGLE: // Utilizando los valores booleanos en operaciones booleanas\n",
      "DATA_TYPE: boolean\n",
      "IDENTIFIER: isTrue\n",
      "OPERATOR: =\n",
      "BOOLEAN: true\n",
      "PUNCTUATION: ;\n",
      "DATA_TYPE: boolean\n",
      "IDENTIFIER: isFalse\n",
      "OPERATOR: =\n",
      "BOOLEAN: false\n",
      "PUNCTUATION: ;\n",
      "DATA_TYPE: boolean\n",
      "IDENTIFIER: result1\n",
      "OPERATOR: =\n",
      "IDENTIFIER: isTrue\n",
      "OPERATOR: &&\n",
      "IDENTIFIER: isFalse\n",
      "PUNCTUATION: ;\n",
      "DATA_TYPE: boolean\n",
      "IDENTIFIER: result2\n",
      "OPERATOR: =\n",
      "IDENTIFIER: isTrue\n",
      "OPERATOR: |\n",
      "OPERATOR: |\n",
      "IDENTIFIER: isFalse\n",
      "PUNCTUATION: ;\n",
      "DATA_TYPE: boolean\n",
      "IDENTIFIER: result3\n",
      "OPERATOR: =\n",
      "OPERATOR: !\n",
      "IDENTIFIER: isFalse\n",
      "PUNCTUATION: ;\n",
      "SYSTEM_CALL: System.out.println\n",
      "PUNCTUATION: (\n",
      "STRING: \" 1: \"\n",
      "OPERATOR: +\n",
      "IDENTIFIER: result1\n",
      "PUNCTUATION: )\n",
      "PUNCTUATION: ;\n",
      "SYSTEM_CALL: System.out.println\n",
      "PUNCTUATION: (\n",
      "STRING: \" 3: \"\n",
      "OPERATOR: +\n",
      "IDENTIFIER: result3\n",
      "PUNCTUATION: )\n",
      "PUNCTUATION: ;\n",
      "SYSTEM_CALL: System.out.println\n",
      "PUNCTUATION: (\n",
      "STRING: \" 2: \"\n",
      "OPERATOR: +\n",
      "IDENTIFIER: result2\n",
      "PUNCTUATION: )\n",
      "PUNCTUATION: ;\n",
      "PUNCTUATION: }\n",
      "PUNCTUATION: }\n"
     ]
    }
   ],
   "source": [
    "for token in tokens2:\n",
    "    print(token.type + ':', token.value)"
   ]
  },
  {
   "attachments": {},
   "cell_type": "markdown",
   "metadata": {},
   "source": [
    "Create a text corpus based on the tokenized code"
   ]
  },
  {
   "cell_type": "code",
   "execution_count": 6,
   "metadata": {},
   "outputs": [],
   "source": [
    "# Convertir los tokens obtenidos a un corpus de texto\n",
    "\n",
    "code1_text = ' '.join(token.type.join(token.value) for token in tokens1)\n",
    "\n",
    "code2_text = ' '.join(token.type.join(token.value) for token in tokens2)\n",
    "\n",
    "#Ver si vale la pena incluir el token type y value al mismo tiempo\n",
    "\n",
    "#code1_text = ' '.join(token.type for token in tokens1)\n",
    "\n",
    "#code2_text = ' '.join(token.type for token in tokens2)"
   ]
  },
  {
   "attachments": {},
   "cell_type": "markdown",
   "metadata": {},
   "source": [
    "Read the sample files to create the vocabulary"
   ]
  },
  {
   "cell_type": "code",
   "execution_count": 8,
   "metadata": {},
   "outputs": [],
   "source": [
    "import os \n",
    "#Collect code snippets from all Java files in the folders\n",
    "corpus = []\n",
    "file_count = 0\n",
    "java_files_folder = \"version_1\"  # Replace with the path to the root folder\n",
    "\n",
    "\n",
    "for root, dirs, files in os.walk(java_files_folder):\n",
    "    for file in files:\n",
    "        if file.endswith(\".java\"):\n",
    "            if file_count >= 100:\n",
    "                break\n",
    "            file_count += 1\n",
    "            file_path = os.path.join(root, file)\n",
    "            lexer = Lexer(open(file_path, \"r\", encoding=\"utf8\").read())\n",
    "            tokens = lexer.tokenize()\n",
    "            code_snippet = \" \".join([token.type + token.value for token in tokens])\n",
    "            corpus.append(code_snippet)"
   ]
  },
  {
   "attachments": {},
   "cell_type": "markdown",
   "metadata": {},
   "source": [
    "Create an instance of the vectoricer based on the java codes vocabulary"
   ]
  },
  {
   "cell_type": "code",
   "execution_count": 9,
   "metadata": {},
   "outputs": [],
   "source": [
    "# Create CountVectorizer and fit the corpus\n",
    "vectorizer = CountVectorizer()\n",
    "X = vectorizer.fit_transform(corpus)\n"
   ]
  },
  {
   "cell_type": "code",
   "execution_count": 10,
   "metadata": {},
   "outputs": [
    {
     "name": "stdout",
     "output_type": "stream",
     "text": [
      "0.9704949588309457\n",
      "Plagiarism detected!\n"
     ]
    }
   ],
   "source": [
    "# Transform the source code snippets using CountVectorizer\n",
    "X_source = vectorizer.transform([code1_text, code2_text])\n",
    "\n",
    "# Calculate cosine similarity between embeddings\n",
    "similarity = cosine_similarity(X_source)[0, 1]\n",
    "\n",
    "print(similarity)\n",
    "\n",
    "if similarity > 0.8:\n",
    "    print(\"Plagio detectado\")\n",
    "else:\n",
    "    print(\"Plagio no detectado\")"
   ]
  }
 ],
 "metadata": {
  "colab": {
   "provenance": []
  },
  "kernelspec": {
   "display_name": "Python 3 (ipykernel)",
   "language": "python",
   "name": "python3"
  },
  "language_info": {
   "codemirror_mode": {
    "name": "ipython",
    "version": 3
   },
   "file_extension": ".py",
   "mimetype": "text/x-python",
   "name": "python",
   "nbconvert_exporter": "python",
   "pygments_lexer": "ipython3",
   "version": "3.10.9"
  }
 },
 "nbformat": 4,
 "nbformat_minor": 1
}
