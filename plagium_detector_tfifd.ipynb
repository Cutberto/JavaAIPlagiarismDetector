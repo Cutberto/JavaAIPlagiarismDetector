{
 "cells": [
  {
   "attachments": {},
   "cell_type": "markdown",
   "metadata": {},
   "source": [
    "# Java Plagiarism Detector"
   ]
  },
  {
   "attachments": {},
   "cell_type": "markdown",
   "metadata": {},
   "source": [
    "Import Lexer analyzer and source code to analyze"
   ]
  },
  {
   "cell_type": "code",
   "execution_count": 42,
   "metadata": {
    "id": "0JWZPOS1nJLH",
    "scrolled": false
   },
   "outputs": [],
   "source": [
    "from java_lexer import Lexer\n",
    "from source_codes import SOURCE_CODE2, SOURCE_CODE1, SOURCE_CODE3, SOURCE_CODE4"
   ]
  },
  {
   "attachments": {},
   "cell_type": "markdown",
   "metadata": {},
   "source": [
    "Call Lexer class and obtain all tokens from source code"
   ]
  },
  {
   "cell_type": "code",
   "execution_count": 43,
   "metadata": {},
   "outputs": [],
   "source": [
    "lexer1 = Lexer(SOURCE_CODE3)\n",
    "tokens1 = lexer1.tokenize()"
   ]
  },
  {
   "cell_type": "code",
   "execution_count": 44,
   "metadata": {},
   "outputs": [],
   "source": [
    "lexer2 = Lexer(SOURCE_CODE4)\n",
    "tokens2 = lexer2.tokenize()"
   ]
  },
  {
   "attachments": {},
   "cell_type": "markdown",
   "metadata": {},
   "source": [
    "Print the identified tokens"
   ]
  },
  {
   "cell_type": "code",
   "execution_count": 45,
   "metadata": {},
   "outputs": [
    {
     "name": "stdout",
     "output_type": "stream",
     "text": [
      "KEYWORD: public\n",
      "KEYWORD: class\n",
      "IDENTIFIER: TrueFalseExample\n",
      "PUNCTUATION: {\n",
      "KEYWORD: public\n",
      "KEYWORD: static\n",
      "DATA_TYPE: void\n",
      "IDENTIFIER: main\n",
      "PUNCTUATION: (\n",
      "IDENTIFIER: String\n",
      "PUNCTUATION: [\n",
      "PUNCTUATION: ]\n",
      "IDENTIFIER: args\n",
      "PUNCTUATION: )\n",
      "PUNCTUATION: {\n",
      "DATA_TYPE: boolean\n",
      "IDENTIFIER: isTrue\n",
      "OPERATOR: =\n",
      "BOOLEAN: true\n",
      "PUNCTUATION: ;\n",
      "DATA_TYPE: boolean\n",
      "IDENTIFIER: isFalse\n",
      "OPERATOR: =\n",
      "BOOLEAN: false\n",
      "PUNCTUATION: ;\n",
      "COMMENT_SINGLE: // Utilizando los valores booleanos en condiciones\n",
      "KEYWORD: if\n",
      "PUNCTUATION: (\n",
      "IDENTIFIER: isTrue\n",
      "PUNCTUATION: )\n",
      "PUNCTUATION: {\n",
      "SYSTEM_CALL: System.out.println\n",
      "PUNCTUATION: (\n",
      "STRING: \"Esta condición es verdadera.\"\n",
      "PUNCTUATION: )\n",
      "PUNCTUATION: ;\n",
      "PUNCTUATION: }\n",
      "KEYWORD: if\n",
      "PUNCTUATION: (\n",
      "OPERATOR: !\n",
      "IDENTIFIER: isFalse\n",
      "PUNCTUATION: )\n",
      "PUNCTUATION: {\n",
      "SYSTEM_CALL: System.out.println\n",
      "PUNCTUATION: (\n",
      "STRING: \"Esta condición es verdadera.\"\n",
      "PUNCTUATION: )\n",
      "PUNCTUATION: ;\n",
      "PUNCTUATION: }\n",
      "COMMENT_SINGLE: // Utilizando los valores booleanos en operaciones booleanas\n",
      "DATA_TYPE: boolean\n",
      "IDENTIFIER: result1\n",
      "OPERATOR: =\n",
      "IDENTIFIER: isTrue\n",
      "OPERATOR: &&\n",
      "IDENTIFIER: isFalse\n",
      "PUNCTUATION: ;\n",
      "DATA_TYPE: boolean\n",
      "IDENTIFIER: result2\n",
      "OPERATOR: =\n",
      "IDENTIFIER: isTrue\n",
      "OPERATOR: |\n",
      "OPERATOR: |\n",
      "IDENTIFIER: isFalse\n",
      "PUNCTUATION: ;\n",
      "DATA_TYPE: boolean\n",
      "IDENTIFIER: result3\n",
      "OPERATOR: =\n",
      "OPERATOR: !\n",
      "IDENTIFIER: isFalse\n",
      "PUNCTUATION: ;\n",
      "SYSTEM_CALL: System.out.println\n",
      "PUNCTUATION: (\n",
      "STRING: \"Resultado 1: \"\n",
      "OPERATOR: +\n",
      "IDENTIFIER: result1\n",
      "PUNCTUATION: )\n",
      "PUNCTUATION: ;\n",
      "SYSTEM_CALL: System.out.println\n",
      "PUNCTUATION: (\n",
      "STRING: \"Resultado 2: \"\n",
      "OPERATOR: +\n",
      "IDENTIFIER: result2\n",
      "PUNCTUATION: )\n",
      "PUNCTUATION: ;\n",
      "SYSTEM_CALL: System.out.println\n",
      "PUNCTUATION: (\n",
      "STRING: \"Resultado 3: \"\n",
      "OPERATOR: +\n",
      "IDENTIFIER: result3\n",
      "PUNCTUATION: )\n",
      "PUNCTUATION: ;\n",
      "PUNCTUATION: }\n",
      "PUNCTUATION: }\n"
     ]
    }
   ],
   "source": [
    "for token in tokens1:\n",
    "    print(token.type + ':', token.value)"
   ]
  },
  {
   "cell_type": "code",
   "execution_count": 46,
   "metadata": {},
   "outputs": [
    {
     "name": "stdout",
     "output_type": "stream",
     "text": [
      "KEYWORD: public\n",
      "KEYWORD: class\n",
      "IDENTIFIER: TrueFalseExcercise\n",
      "PUNCTUATION: {\n",
      "KEYWORD: public\n",
      "KEYWORD: static\n",
      "DATA_TYPE: void\n",
      "IDENTIFIER: main\n",
      "PUNCTUATION: (\n",
      "IDENTIFIER: String\n",
      "PUNCTUATION: [\n",
      "PUNCTUATION: ]\n",
      "IDENTIFIER: args\n",
      "PUNCTUATION: )\n",
      "PUNCTUATION: {\n",
      "COMMENT_SINGLE: // Utilizando los valores booleanos en condiciones\n",
      "KEYWORD: if\n",
      "PUNCTUATION: (\n",
      "IDENTIFIER: isTrue\n",
      "PUNCTUATION: )\n",
      "PUNCTUATION: {\n",
      "SYSTEM_CALL: System.out.println\n",
      "PUNCTUATION: (\n",
      "STRING: \"Esta condición es verdadera.\"\n",
      "PUNCTUATION: )\n",
      "PUNCTUATION: ;\n",
      "PUNCTUATION: }\n",
      "IDENTIFIER: elif\n",
      "PUNCTUATION: (\n",
      "OPERATOR: !\n",
      "IDENTIFIER: isFalse\n",
      "PUNCTUATION: )\n",
      "PUNCTUATION: {\n",
      "SYSTEM_CALL: System.out.println\n",
      "PUNCTUATION: (\n",
      "STRING: \"Esta condición es verdadera.\"\n",
      "PUNCTUATION: )\n",
      "PUNCTUATION: ;\n",
      "PUNCTUATION: }\n",
      "COMMENT_SINGLE: // Utilizando los valores booleanos en operaciones booleanas\n",
      "DATA_TYPE: boolean\n",
      "IDENTIFIER: isTrue\n",
      "OPERATOR: =\n",
      "BOOLEAN: true\n",
      "PUNCTUATION: ;\n",
      "DATA_TYPE: boolean\n",
      "IDENTIFIER: isFalse\n",
      "OPERATOR: =\n",
      "BOOLEAN: false\n",
      "PUNCTUATION: ;\n",
      "DATA_TYPE: boolean\n",
      "IDENTIFIER: result1\n",
      "OPERATOR: =\n",
      "IDENTIFIER: isTrue\n",
      "OPERATOR: &&\n",
      "IDENTIFIER: isFalse\n",
      "PUNCTUATION: ;\n",
      "DATA_TYPE: boolean\n",
      "IDENTIFIER: result2\n",
      "OPERATOR: =\n",
      "IDENTIFIER: isTrue\n",
      "OPERATOR: |\n",
      "OPERATOR: |\n",
      "IDENTIFIER: isFalse\n",
      "PUNCTUATION: ;\n",
      "DATA_TYPE: boolean\n",
      "IDENTIFIER: result3\n",
      "OPERATOR: =\n",
      "OPERATOR: !\n",
      "IDENTIFIER: isFalse\n",
      "PUNCTUATION: ;\n",
      "SYSTEM_CALL: System.out.println\n",
      "PUNCTUATION: (\n",
      "STRING: \" 1: \"\n",
      "OPERATOR: +\n",
      "IDENTIFIER: result1\n",
      "PUNCTUATION: )\n",
      "PUNCTUATION: ;\n",
      "SYSTEM_CALL: System.out.println\n",
      "PUNCTUATION: (\n",
      "STRING: \" 3: \"\n",
      "OPERATOR: +\n",
      "IDENTIFIER: result3\n",
      "PUNCTUATION: )\n",
      "PUNCTUATION: ;\n",
      "SYSTEM_CALL: System.out.println\n",
      "PUNCTUATION: (\n",
      "STRING: \" 2: \"\n",
      "OPERATOR: +\n",
      "IDENTIFIER: result2\n",
      "PUNCTUATION: )\n",
      "PUNCTUATION: ;\n",
      "PUNCTUATION: }\n",
      "PUNCTUATION: }\n"
     ]
    }
   ],
   "source": [
    "for token in tokens2:\n",
    "    print(token.type + ':', token.value)"
   ]
  },
  {
   "cell_type": "code",
   "execution_count": 47,
   "metadata": {},
   "outputs": [],
   "source": [
    "from sklearn.feature_extraction.text import TfidfVectorizer\n",
    "from sklearn.metrics.pairwise import cosine_similarity\n",
    "\n",
    "def compare_tokens(tokens1, tokens2):\n",
    "    # Convertir las listas de tokens en cadenas de texto\n",
    "    text1 = ' '.join([token.value for token in tokens1])\n",
    "    text2 = ' '.join([token.value for token in tokens2])\n",
    "\n",
    "    # Crear un objeto TfidfVectorizer\n",
    "    vectorizer = TfidfVectorizer()\n",
    "\n",
    "    # Aplicar la vectorización TF-IDF a las cadenas de texto\n",
    "    tfidf_matrix = vectorizer.fit_transform([text1, text2])\n",
    "\n",
    "    # Calcular la similitud del coseno entre los vectores TF-IDF\n",
    "    similarity = cosine_similarity(tfidf_matrix[0], tfidf_matrix[1])\n",
    "\n",
    "    return similarity[0][0]\n",
    "\n"
   ]
  },
  {
   "cell_type": "code",
   "execution_count": 48,
   "metadata": {},
   "outputs": [
    {
     "name": "stdout",
     "output_type": "stream",
     "text": [
      "Similarity score: 0.9443065071012865\n"
     ]
    }
   ],
   "source": [
    "# Ejemplo de uso\n",
    "\n",
    "similarity_score = compare_tokens(tokens1, tokens2)\n",
    "print(\"Similarity score:\", similarity_score)"
   ]
  }
 ],
 "metadata": {
  "colab": {
   "provenance": []
  },
  "kernelspec": {
   "display_name": "Python 3 (ipykernel)",
   "language": "python",
   "name": "python3"
  },
  "language_info": {
   "codemirror_mode": {
    "name": "ipython",
    "version": 3
   },
   "file_extension": ".py",
   "mimetype": "text/x-python",
   "name": "python",
   "nbconvert_exporter": "python",
   "pygments_lexer": "ipython3",
   "version": "3.10.9"
  }
 },
 "nbformat": 4,
 "nbformat_minor": 1
}
