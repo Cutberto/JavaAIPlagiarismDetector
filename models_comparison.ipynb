{
 "cells": [
  {
   "attachments": {},
   "cell_type": "markdown",
   "metadata": {},
   "source": [
    "# Comparación entre los distintos modelos desarrollados"
   ]
  },
  {
   "cell_type": "code",
   "execution_count": 1,
   "metadata": {
    "id": "0JWZPOS1nJLH",
    "scrolled": false
   },
   "outputs": [],
   "source": [
    "from java_lexer import Lexer"
   ]
  },
  {
   "attachments": {},
   "cell_type": "markdown",
   "metadata": {},
   "source": [
    "A continuación, importaremos cada uno de los 4 modelos que desarrollamos. \n",
    "\n",
    "Para cada modelo, haremos un microestudio en el que se comparará el desempeño del modelo al detectar plagio en código de java con técnicas de ofuscación "
   ]
  },
  {
   "attachments": {},
   "cell_type": "markdown",
   "metadata": {},
   "source": [
    "## Cargar el dataset"
   ]
  },
  {
   "cell_type": "code",
   "execution_count": 42,
   "metadata": {},
   "outputs": [
    {
     "name": "stdout",
     "output_type": "stream",
     "text": [
      "1\n",
      "1.java\n",
      "2.java\n",
      "10\n",
      "1.java\n",
      "2.java\n",
      "2\n",
      "1.java\n",
      "2.java\n",
      "3\n",
      "1.java\n",
      "2.java\n",
      "4\n",
      "1.java\n",
      "2.java\n",
      "5\n",
      "1.java\n",
      "2.java\n",
      "6\n",
      "1.java\n",
      "2.java\n",
      "7\n",
      "1.java\n",
      "2.java\n",
      "8\n",
      "1.java\n",
      "2.java\n",
      "9\n",
      "1.java\n",
      "2.java\n",
      "[['public class SumArray {\\n    public static void main(String[] args) {\\n        int[] array = {5, 2, 7, 3, 9};\\n        int sum = 0;\\n        \\n        for (int i = 0; i < array.length; i++) {\\n            sum += array[i];\\n        }\\n        \\n        System.out.println(\"Sum: \" + sum);\\n    }\\n}\\n', 'public class Oa6A6b53 {\\n    public static void main(String[] args) {\\n        int[] b = {5, 2, 7, 3, 9};\\n        int a = 0;\\n        \\n        for (int i = 0; i < b.length; i++) {\\n            a += b[i];\\n        }\\n        \\n        System.out.println(\"a: \" + a);\\n    }\\n}\\n'], ['public class Circle {\\n    private double radius;\\n    \\n    public Circle(double radius) {\\n        this.radius = radius;\\n    }\\n    \\n    public double getRadius() {\\n        return radius;\\n    }\\n    \\n    public double calculateArea() {\\n        return Math.PI * radius * radius;\\n    }\\n    \\n    public double calculateCircumference() {\\n        return 2 * Math.PI * radius;\\n    }\\n    \\n    public static void main(String[] args) {\\n        Circle circle = new Circle(5.0);\\n        System.out.println(\"Radius: \" + circle.getRadius());\\n        System.out.println(\"Area: \" + circle.calculateArea());\\n        System.out.println(\"Circumference: \" + circle.calculateCircumference());\\n    }\\n}\\n', 'public class Crc {\\n    private double a;\\n    \\n    public Crc(double b) {\\n        this.a = b;\\n    }\\n    \\n    public double c() {\\n        return a;\\n    }\\n    \\n    public double d() {\\n        return Math.PI * a * a;\\n    }\\n    \\n    public double e() {\\n        return 2 * Math.PI * a;\\n    }\\n    \\n    public static void main(String[] args) {\\n        Crc f = new Crc(5.0);\\n        System.out.println(\"Radius: \" + f.c());\\n        System.out.println(\"Area: \" + f.d());\\n        System.out.println(\"Circumference: \" + f.e());\\n    }\\n}\\n'], ['public class Fibonacci {\\n    public static void main(String[] args) {\\n        int n = 10;\\n        int[] fib = new int[n];\\n        \\n        fib[0] = 0;\\n        fib[1] = 1;\\n        \\n        for (int i = 2; i < n; i++) {\\n            fib[i] = fib[i - 1] + fib[i - 2];\\n        }\\n        \\n        System.out.println(\"Fibonacci series:\");\\n        for (int i = 0; i < n; i++) {\\n            System.out.print(fib[i] + \" \");\\n        }\\n    }\\n}\\n', 'public class Fbnc {\\n    public static void main(String[] args) {\\n        int b = 10;\\n        int[] a = new int[b];\\n        \\n        a[0] = 0;\\n        a[1] = 1;\\n        \\n        for (int i = 2; i < b; i++) {\\n            a[i] = a[i - 1] + a[i - 2];\\n        }\\n        \\n        System.out.println(\"Fibonacci series:\");\\n        for (int i = 0; i < b; i++) {\\n            System.out.print(a[i] + \" \");\\n        }\\n    }\\n}\\n'], ['public class PrimeNumbers {\\n    public static void main(String[] args) {\\n        int n = 20;\\n        \\n        System.out.println(\"Prime numbers up to \" + n + \":\");\\n        for (int i = 2; i <= n; i++) {\\n            if (isPrime(i)) {\\n                System.out.print(i + \" \");\\n            }\\n        }\\n    }\\n    \\n    public static boolean isPrime(int num) {\\n        if (num <= 1) {\\n            return false;\\n        }\\n        \\n        for (int i = 2; i <= Math.sqrt(num); i++) {\\n            if (num % i == 0) {\\n                return false;\\n            }\\n        }\\n        \\n        return true;\\n    }\\n}\\n', 'public class PmN {\\n    public static void main(String[] args) {\\n        int a = 20;\\n        \\n        System.out.println(\"Prime numbers up to \" + a + \":\");\\n        for (int b = 2; b <= a; b++) {\\n            if (ip(b)) {\\n                System.out.print(b + \" \");\\n            }\\n        }\\n    }\\n    \\n    public static boolean ip(int c) {\\n        if (c <= 1) {\\n            return false;\\n        }\\n        \\n        for (int d = 2; d <= Math.sqrt(c); d++) {\\n            if (c % d == 0) {\\n                return false;\\n            }\\n        }\\n        \\n        return true;\\n    }\\n}\\n'], ['public class Palindrome {\\n    public static void main(String[] args) {\\n        String word = \"radar\";\\n        \\n        if (isPalindrome(word)) {\\n            System.out.println(word + \" is a palindrome.\");\\n        } else {\\n            System.out.println(word + \" is not a palindrome.\");\\n        }\\n    }\\n    \\n    public static boolean isPalindrome(String str) {\\n        String reversed = \"\";\\n        for (int i = str.length() - 1; i >= 0; i--) {\\n            reversed += str.charAt(i);\\n        }\\n        return str.equals(reversed);\\n    }\\n}\\n', 'public class Pd {\\n    public static void main(String[] args) {\\n        String a = \"radar\";\\n        \\n        if (b(a)) {\\n            System.out.println(a + \" is a palindrome.\");\\n        } else {\\n            System.out.println(a + \" is not a palindrome.\");\\n        }\\n    }\\n    \\n    public static boolean b(String c) {\\n        String d = \"\";\\n        for (int e = c.length() - 1; e >= 0; e--) {\\n            d += c.charAt(e);\\n        }\\n        return c.equals(d);\\n    }\\n}\\n'], ['public class Factorial {\\n    public static void main(String[] args) {\\n        int n = 5;\\n        int factorial = calculateFactorial(n);\\n        System.out.println(\"Factorial of \" + n + \" is: \" + factorial);\\n    }\\n    \\n    public static int calculateFactorial(int num) {\\n        if (num == 0 || num == 1) {\\n            return 1;\\n        }\\n        \\n        int result = 1;\\n        for (int i = 2; i <= num; i++) {\\n            result *= i;\\n        }\\n        \\n        return result;\\n    }\\n}\\n', 'public class Ftrl {\\n    public static void main(String[] args) {\\n        int a = 5;\\n        int b = cb(a);\\n        System.out.println(\"cb of \" + a + \" is: \" + b);\\n    }\\n    \\n    public static int cb(int c) {\\n        if (c == 0 || c == 1) {\\n            return 1;\\n        }\\n        \\n        int d = 1;\\n        for (int e = 2; e <= c; e++) {\\n            d *= e;\\n        }\\n        \\n        return d;\\n    }\\n}\\n'], ['public class PrimeChecker {\\n    public static void main(String[] args) {\\n        int number = 17;\\n        \\n        if (isPrime(number)) {\\n            System.out.println(number + \" is a prime number.\");\\n        } else {\\n            System.out.println(number + \" is not a prime number.\");\\n        }\\n    }\\n    \\n    public static boolean isPrime(int num) {\\n        if (num <= 1) {\\n            return false;\\n        }\\n        \\n        for (int i = 2; i <= Math.sqrt(num); i++) {\\n            if (num % i == 0) {\\n                return false;\\n            }\\n        }\\n        \\n        return true;\\n    }\\n}\\n', 'public class Pc {\\n    public static void main(String[] args) {\\n        int a = 17;\\n        \\n        if (b(a)) {\\n            System.out.println(a + \" is a prime number.\");\\n        } else {\\n            System.out.println(a + \" is not a prime number.\");\\n        }\\n    }\\n    \\n    public static boolean b(int c) {\\n        if (c <= 1) {\\n            return false;\\n        }\\n        \\n        for (int d = 2; d <= Math.sqrt(c); d++) {\\n            if (c % d == 0) {\\n                return false;\\n            }\\n        }\\n        \\n        return true;\\n    }\\n}\\n'], ['public class Power {\\n    public static void main(String[] args) {\\n        int base = 3;\\n        int exponent = 4;\\n        \\n        int result = power(base, exponent);\\n        System.out.println(base + \" raised to the power of \" + exponent + \" is: \" + result);\\n    }\\n    \\n    public static int power(int base, int exponent) {\\n        int result = 1;\\n        \\n        for (int i = 1; i <= exponent; i++) {\\n            result *= base;\\n        }\\n        \\n        return result;\\n    }\\n}\\n', 'public class Pw {\\n    public static void main(String[] args) {\\n        int a = 3;\\n        int b = 4;\\n        \\n        int c = d(a, b);\\n        System.out.println(a + \" raised to the power of \" + b + \" is: \" + c);\\n    }\\n    \\n    public static int d(int a, int b) {\\n        int c = 1;\\n        \\n        for (int i = 1; i <= b; i++) {\\n            c *= a;\\n        }\\n        \\n        return c;\\n    }\\n}\\n'], ['public class ArraySum {\\n    public static void main(String[] args) {\\n        int[] array = {1, 2, 3, 4, 5};\\n        \\n        int sum = calculateSum(array);\\n        System.out.println(\"Sum of the array elements: \" + sum);\\n    }\\n    \\n    public static int calculateSum(int[] arr) {\\n        int sum = 0;\\n        \\n        for (int i = 0; i < arr.length; i++) {\\n            sum += arr[i];\\n        }\\n        \\n        return sum;\\n    }\\n}\\n', 'public class As {\\n    public static void main(String[] args) {\\n        int[] a = {1, 2, 3, 4, 5};\\n        \\n        int b = c(a);\\n        System.out.println(\"Sum of the array elements: \" + b);\\n    }\\n    \\n    public static int c(int[] d) {\\n        int b = 0;\\n        \\n        for (int i = 0; i < d.length; i++) {\\n            b += d[i];\\n        }\\n        \\n        return b;\\n    }\\n}\\n'], ['public class Fibonacci {\\n    public static void main(String[] args) {\\n        int n = 10;\\n        \\n        System.out.println(\"Fibonacci series up to \" + n + \":\");\\n        for (int i = 0; i < n; i++) {\\n            System.out.print(fibonacci(i) + \" \");\\n        }\\n    }\\n    \\n    public static int fibonacci(int num) {\\n        if (num == 0 || num == 1) {\\n            return num;\\n        }\\n        \\n        int a = 0;\\n        int b = 1;\\n        int fib = 0;\\n        \\n        for (int i = 2; i <= num; i++) {\\n            fib = a + b;\\n            a = b;\\n            b = fib;\\n        }\\n        \\n        return fib;\\n    }\\n}\\n', 'public class Fbncc {\\n    public static void main(String[] args) {\\n        int a = 10;\\n        \\n        System.out.println(\"Fibonacci series up to \" + a + \":\");\\n        for (int b = 0; b < a; b++) {\\n            System.out.print(c(b) + \" \");\\n        }\\n    }\\n    \\n    public static int c(int d) {\\n        if (d == 0 || d == 1) {\\n            return d;\\n        }\\n        \\n        int e = 0;\\n        int f = 1;\\n        int g = 0;\\n        \\n        for (int h = 2; h <= d; h++) {\\n            g = e + f;\\n            e = f;\\n            f = g;\\n        }\\n        \\n        return g;\\n    }\\n}\\ns']]\n"
     ]
    }
   ],
   "source": [
    "import os\n",
    "\n",
    "# Ruta del directorio raíz\n",
    "ruta_raiz = 'dataset_ofuscado'\n",
    "\n",
    "# Lista para almacenar el contenido de cada carpeta\n",
    "X = []\n",
    "\n",
    "# Recorrer las carpetas\n",
    "for carpeta in os.listdir(ruta_raiz):\n",
    "    # Comprobar si es un directorio\n",
    "    print (carpeta)\n",
    "    if os.path.isdir(os.path.join(ruta_raiz, carpeta)):\n",
    "        contenido_carpeta = []\n",
    "        # Recorrer los archivos en la carpeta\n",
    "        for archivo in os.listdir(os.path.join(ruta_raiz, carpeta)):\n",
    "            # Comprobar si es un archivo Java\n",
    "            if archivo.endswith('.java'):\n",
    "                print(archivo)\n",
    "                # Leer el contenido del archivo y añadirlo a la lista\n",
    "                with open(os.path.join(ruta_raiz, carpeta, archivo), 'r') as f:\n",
    "                    contenido_carpeta.append(f.read())\n",
    "        # Añadir el contenido de la carpeta a la lista principal\n",
    "        X.append(contenido_carpeta)\n",
    "\n",
    "# Imprimir el resultado\n",
    "print(X)\n"
   ]
  },
  {
   "cell_type": "code",
   "execution_count": 45,
   "metadata": {},
   "outputs": [],
   "source": [
    "from java_lexer import Lexer\n",
    "javaLexer = Lexer()"
   ]
  },
  {
   "cell_type": "code",
   "execution_count": 46,
   "metadata": {},
   "outputs": [
    {
     "name": "stdout",
     "output_type": "stream",
     "text": [
      "[['KEYWORD public KEYWORD class IDENTIFIER  PUNCTUATION { KEYWORD public KEYWORD static DATA_TYPE void IDENTIFIER  PUNCTUATION ( IDENTIFIER  PUNCTUATION [ PUNCTUATION ] IDENTIFIER  PUNCTUATION ) PUNCTUATION { DATA_TYPE int PUNCTUATION [ PUNCTUATION ] IDENTIFIER  OPERATOR = PUNCTUATION { NUMBER  PUNCTUATION , NUMBER  PUNCTUATION , NUMBER  PUNCTUATION , NUMBER  PUNCTUATION , NUMBER  PUNCTUATION } PUNCTUATION ; DATA_TYPE int IDENTIFIER  OPERATOR = NUMBER  PUNCTUATION ; KEYWORD for PUNCTUATION ( DATA_TYPE int IDENTIFIER  OPERATOR = NUMBER  PUNCTUATION ; IDENTIFIER  OPERATOR < IDENTIFIER  PUNCTUATION . IDENTIFIER  PUNCTUATION ; IDENTIFIER  OPERATOR + OPERATOR + PUNCTUATION ) PUNCTUATION { IDENTIFIER  OPERATOR + OPERATOR = IDENTIFIER  PUNCTUATION [ IDENTIFIER  PUNCTUATION ] PUNCTUATION ; PUNCTUATION } SYSTEM_CALL System.out.println PUNCTUATION ( STRING  OPERATOR + IDENTIFIER  PUNCTUATION ) PUNCTUATION ; PUNCTUATION } PUNCTUATION } ', 'KEYWORD public KEYWORD class IDENTIFIER  PUNCTUATION { KEYWORD public KEYWORD static DATA_TYPE void IDENTIFIER  PUNCTUATION ( IDENTIFIER  PUNCTUATION [ PUNCTUATION ] IDENTIFIER  PUNCTUATION ) PUNCTUATION { DATA_TYPE int PUNCTUATION [ PUNCTUATION ] IDENTIFIER  OPERATOR = PUNCTUATION { NUMBER  PUNCTUATION , NUMBER  PUNCTUATION , NUMBER  PUNCTUATION , NUMBER  PUNCTUATION , NUMBER  PUNCTUATION } PUNCTUATION ; DATA_TYPE int IDENTIFIER  OPERATOR = NUMBER  PUNCTUATION ; KEYWORD for PUNCTUATION ( DATA_TYPE int IDENTIFIER  OPERATOR = NUMBER  PUNCTUATION ; IDENTIFIER  OPERATOR < IDENTIFIER  PUNCTUATION . IDENTIFIER  PUNCTUATION ; IDENTIFIER  OPERATOR + OPERATOR + PUNCTUATION ) PUNCTUATION { IDENTIFIER  OPERATOR + OPERATOR = IDENTIFIER  PUNCTUATION [ IDENTIFIER  PUNCTUATION ] PUNCTUATION ; PUNCTUATION } SYSTEM_CALL System.out.println PUNCTUATION ( STRING  OPERATOR + IDENTIFIER  PUNCTUATION ) PUNCTUATION ; PUNCTUATION } PUNCTUATION } '], ['KEYWORD public KEYWORD class IDENTIFIER  PUNCTUATION { KEYWORD private DATA_TYPE double IDENTIFIER  PUNCTUATION ; KEYWORD public IDENTIFIER  PUNCTUATION ( DATA_TYPE double IDENTIFIER  PUNCTUATION ) PUNCTUATION { KEYWORD this PUNCTUATION . IDENTIFIER  OPERATOR = IDENTIFIER  PUNCTUATION ; PUNCTUATION } KEYWORD public DATA_TYPE double IDENTIFIER  PUNCTUATION ( PUNCTUATION ) PUNCTUATION { KEYWORD return IDENTIFIER  PUNCTUATION ; PUNCTUATION } KEYWORD public DATA_TYPE double IDENTIFIER  PUNCTUATION ( PUNCTUATION ) PUNCTUATION { KEYWORD return IDENTIFIER  PUNCTUATION . IDENTIFIER  OPERATOR * IDENTIFIER  OPERATOR * IDENTIFIER  PUNCTUATION ; PUNCTUATION } KEYWORD public DATA_TYPE double IDENTIFIER  PUNCTUATION ( PUNCTUATION ) PUNCTUATION { KEYWORD return NUMBER  OPERATOR * IDENTIFIER  PUNCTUATION . IDENTIFIER  OPERATOR * IDENTIFIER  PUNCTUATION ; PUNCTUATION } KEYWORD public KEYWORD static DATA_TYPE void IDENTIFIER  PUNCTUATION ( IDENTIFIER  PUNCTUATION [ PUNCTUATION ] IDENTIFIER  PUNCTUATION ) PUNCTUATION { IDENTIFIER  IDENTIFIER  OPERATOR = KEYWORD new IDENTIFIER  PUNCTUATION ( NUMBER  PUNCTUATION ) PUNCTUATION ; SYSTEM_CALL System.out.println PUNCTUATION ( STRING  OPERATOR + IDENTIFIER  PUNCTUATION . IDENTIFIER  PUNCTUATION ( PUNCTUATION ) PUNCTUATION ) PUNCTUATION ; SYSTEM_CALL System.out.println PUNCTUATION ( STRING  OPERATOR + IDENTIFIER  PUNCTUATION . IDENTIFIER  PUNCTUATION ( PUNCTUATION ) PUNCTUATION ) PUNCTUATION ; SYSTEM_CALL System.out.println PUNCTUATION ( STRING  OPERATOR + IDENTIFIER  PUNCTUATION . IDENTIFIER  PUNCTUATION ( PUNCTUATION ) PUNCTUATION ) PUNCTUATION ; PUNCTUATION } PUNCTUATION } ', 'KEYWORD public KEYWORD class IDENTIFIER  PUNCTUATION { KEYWORD private DATA_TYPE double IDENTIFIER  PUNCTUATION ; KEYWORD public IDENTIFIER  PUNCTUATION ( DATA_TYPE double IDENTIFIER  PUNCTUATION ) PUNCTUATION { KEYWORD this PUNCTUATION . IDENTIFIER  OPERATOR = IDENTIFIER  PUNCTUATION ; PUNCTUATION } KEYWORD public DATA_TYPE double IDENTIFIER  PUNCTUATION ( PUNCTUATION ) PUNCTUATION { KEYWORD return IDENTIFIER  PUNCTUATION ; PUNCTUATION } KEYWORD public DATA_TYPE double IDENTIFIER  PUNCTUATION ( PUNCTUATION ) PUNCTUATION { KEYWORD return IDENTIFIER  PUNCTUATION . IDENTIFIER  OPERATOR * IDENTIFIER  OPERATOR * IDENTIFIER  PUNCTUATION ; PUNCTUATION } KEYWORD public DATA_TYPE double IDENTIFIER  PUNCTUATION ( PUNCTUATION ) PUNCTUATION { KEYWORD return NUMBER  OPERATOR * IDENTIFIER  PUNCTUATION . IDENTIFIER  OPERATOR * IDENTIFIER  PUNCTUATION ; PUNCTUATION } KEYWORD public KEYWORD static DATA_TYPE void IDENTIFIER  PUNCTUATION ( IDENTIFIER  PUNCTUATION [ PUNCTUATION ] IDENTIFIER  PUNCTUATION ) PUNCTUATION { IDENTIFIER  IDENTIFIER  OPERATOR = KEYWORD new IDENTIFIER  PUNCTUATION ( NUMBER  PUNCTUATION ) PUNCTUATION ; SYSTEM_CALL System.out.println PUNCTUATION ( STRING  OPERATOR + IDENTIFIER  PUNCTUATION . IDENTIFIER  PUNCTUATION ( PUNCTUATION ) PUNCTUATION ) PUNCTUATION ; SYSTEM_CALL System.out.println PUNCTUATION ( STRING  OPERATOR + IDENTIFIER  PUNCTUATION . IDENTIFIER  PUNCTUATION ( PUNCTUATION ) PUNCTUATION ) PUNCTUATION ; SYSTEM_CALL System.out.println PUNCTUATION ( STRING  OPERATOR + IDENTIFIER  PUNCTUATION . IDENTIFIER  PUNCTUATION ( PUNCTUATION ) PUNCTUATION ) PUNCTUATION ; PUNCTUATION } PUNCTUATION } '], ['KEYWORD public KEYWORD class IDENTIFIER  PUNCTUATION { KEYWORD public KEYWORD static DATA_TYPE void IDENTIFIER  PUNCTUATION ( IDENTIFIER  PUNCTUATION [ PUNCTUATION ] IDENTIFIER  PUNCTUATION ) PUNCTUATION { DATA_TYPE int IDENTIFIER  OPERATOR = NUMBER  PUNCTUATION ; DATA_TYPE int PUNCTUATION [ PUNCTUATION ] IDENTIFIER  OPERATOR = KEYWORD new DATA_TYPE int PUNCTUATION [ IDENTIFIER  PUNCTUATION ] PUNCTUATION ; IDENTIFIER  PUNCTUATION [ NUMBER  PUNCTUATION ] OPERATOR = NUMBER  PUNCTUATION ; IDENTIFIER  PUNCTUATION [ NUMBER  PUNCTUATION ] OPERATOR = NUMBER  PUNCTUATION ; KEYWORD for PUNCTUATION ( DATA_TYPE int IDENTIFIER  OPERATOR = NUMBER  PUNCTUATION ; IDENTIFIER  OPERATOR < IDENTIFIER  PUNCTUATION ; IDENTIFIER  OPERATOR + OPERATOR + PUNCTUATION ) PUNCTUATION { IDENTIFIER  PUNCTUATION [ IDENTIFIER  PUNCTUATION ] OPERATOR = IDENTIFIER  PUNCTUATION [ IDENTIFIER  OPERATOR - NUMBER  PUNCTUATION ] OPERATOR + IDENTIFIER  PUNCTUATION [ IDENTIFIER  OPERATOR - NUMBER  PUNCTUATION ] PUNCTUATION ; PUNCTUATION } SYSTEM_CALL System.out.println PUNCTUATION ( STRING  PUNCTUATION ) PUNCTUATION ; KEYWORD for PUNCTUATION ( DATA_TYPE int IDENTIFIER  OPERATOR = NUMBER  PUNCTUATION ; IDENTIFIER  OPERATOR < IDENTIFIER  PUNCTUATION ; IDENTIFIER  OPERATOR + OPERATOR + PUNCTUATION ) PUNCTUATION { SYSTEM_CALL System.out.print PUNCTUATION ( IDENTIFIER  PUNCTUATION [ IDENTIFIER  PUNCTUATION ] OPERATOR + STRING  PUNCTUATION ) PUNCTUATION ; PUNCTUATION } PUNCTUATION } PUNCTUATION } ', 'KEYWORD public KEYWORD class IDENTIFIER  PUNCTUATION { KEYWORD public KEYWORD static DATA_TYPE void IDENTIFIER  PUNCTUATION ( IDENTIFIER  PUNCTUATION [ PUNCTUATION ] IDENTIFIER  PUNCTUATION ) PUNCTUATION { DATA_TYPE int IDENTIFIER  OPERATOR = NUMBER  PUNCTUATION ; DATA_TYPE int PUNCTUATION [ PUNCTUATION ] IDENTIFIER  OPERATOR = KEYWORD new DATA_TYPE int PUNCTUATION [ IDENTIFIER  PUNCTUATION ] PUNCTUATION ; IDENTIFIER  PUNCTUATION [ NUMBER  PUNCTUATION ] OPERATOR = NUMBER  PUNCTUATION ; IDENTIFIER  PUNCTUATION [ NUMBER  PUNCTUATION ] OPERATOR = NUMBER  PUNCTUATION ; KEYWORD for PUNCTUATION ( DATA_TYPE int IDENTIFIER  OPERATOR = NUMBER  PUNCTUATION ; IDENTIFIER  OPERATOR < IDENTIFIER  PUNCTUATION ; IDENTIFIER  OPERATOR + OPERATOR + PUNCTUATION ) PUNCTUATION { IDENTIFIER  PUNCTUATION [ IDENTIFIER  PUNCTUATION ] OPERATOR = IDENTIFIER  PUNCTUATION [ IDENTIFIER  OPERATOR - NUMBER  PUNCTUATION ] OPERATOR + IDENTIFIER  PUNCTUATION [ IDENTIFIER  OPERATOR - NUMBER  PUNCTUATION ] PUNCTUATION ; PUNCTUATION } SYSTEM_CALL System.out.println PUNCTUATION ( STRING  PUNCTUATION ) PUNCTUATION ; KEYWORD for PUNCTUATION ( DATA_TYPE int IDENTIFIER  OPERATOR = NUMBER  PUNCTUATION ; IDENTIFIER  OPERATOR < IDENTIFIER  PUNCTUATION ; IDENTIFIER  OPERATOR + OPERATOR + PUNCTUATION ) PUNCTUATION { SYSTEM_CALL System.out.print PUNCTUATION ( IDENTIFIER  PUNCTUATION [ IDENTIFIER  PUNCTUATION ] OPERATOR + STRING  PUNCTUATION ) PUNCTUATION ; PUNCTUATION } PUNCTUATION } PUNCTUATION } '], ['KEYWORD public KEYWORD class IDENTIFIER  PUNCTUATION { KEYWORD public KEYWORD static DATA_TYPE void IDENTIFIER  PUNCTUATION ( IDENTIFIER  PUNCTUATION [ PUNCTUATION ] IDENTIFIER  PUNCTUATION ) PUNCTUATION { DATA_TYPE int IDENTIFIER  OPERATOR = NUMBER  PUNCTUATION ; SYSTEM_CALL System.out.println PUNCTUATION ( STRING  OPERATOR + IDENTIFIER  OPERATOR + STRING  PUNCTUATION ) PUNCTUATION ; KEYWORD for PUNCTUATION ( DATA_TYPE int IDENTIFIER  OPERATOR = NUMBER  PUNCTUATION ; IDENTIFIER  OPERATOR <= IDENTIFIER  PUNCTUATION ; IDENTIFIER  OPERATOR + OPERATOR + PUNCTUATION ) PUNCTUATION { KEYWORD if PUNCTUATION ( IDENTIFIER  PUNCTUATION ( IDENTIFIER  PUNCTUATION ) PUNCTUATION ) PUNCTUATION { SYSTEM_CALL System.out.print PUNCTUATION ( IDENTIFIER  OPERATOR + STRING  PUNCTUATION ) PUNCTUATION ; PUNCTUATION } PUNCTUATION } PUNCTUATION } KEYWORD public KEYWORD static DATA_TYPE boolean IDENTIFIER  PUNCTUATION ( DATA_TYPE int IDENTIFIER  PUNCTUATION ) PUNCTUATION { KEYWORD if PUNCTUATION ( IDENTIFIER  OPERATOR <= NUMBER  PUNCTUATION ) PUNCTUATION { KEYWORD return BOOLEAN false PUNCTUATION ; PUNCTUATION } KEYWORD for PUNCTUATION ( DATA_TYPE int IDENTIFIER  OPERATOR = NUMBER  PUNCTUATION ; IDENTIFIER  OPERATOR <= IDENTIFIER  PUNCTUATION . IDENTIFIER  PUNCTUATION ( IDENTIFIER  PUNCTUATION ) PUNCTUATION ; IDENTIFIER  OPERATOR + OPERATOR + PUNCTUATION ) PUNCTUATION { KEYWORD if PUNCTUATION ( IDENTIFIER  OPERATOR % IDENTIFIER  OPERATOR = OPERATOR = NUMBER  PUNCTUATION ) PUNCTUATION { KEYWORD return BOOLEAN false PUNCTUATION ; PUNCTUATION } PUNCTUATION } KEYWORD return BOOLEAN true PUNCTUATION ; PUNCTUATION } PUNCTUATION } ', 'KEYWORD public KEYWORD class IDENTIFIER  PUNCTUATION { KEYWORD public KEYWORD static DATA_TYPE void IDENTIFIER  PUNCTUATION ( IDENTIFIER  PUNCTUATION [ PUNCTUATION ] IDENTIFIER  PUNCTUATION ) PUNCTUATION { DATA_TYPE int IDENTIFIER  OPERATOR = NUMBER  PUNCTUATION ; SYSTEM_CALL System.out.println PUNCTUATION ( STRING  OPERATOR + IDENTIFIER  OPERATOR + STRING  PUNCTUATION ) PUNCTUATION ; KEYWORD for PUNCTUATION ( DATA_TYPE int IDENTIFIER  OPERATOR = NUMBER  PUNCTUATION ; IDENTIFIER  OPERATOR <= IDENTIFIER  PUNCTUATION ; IDENTIFIER  OPERATOR + OPERATOR + PUNCTUATION ) PUNCTUATION { KEYWORD if PUNCTUATION ( IDENTIFIER  PUNCTUATION ( IDENTIFIER  PUNCTUATION ) PUNCTUATION ) PUNCTUATION { SYSTEM_CALL System.out.print PUNCTUATION ( IDENTIFIER  OPERATOR + STRING  PUNCTUATION ) PUNCTUATION ; PUNCTUATION } PUNCTUATION } PUNCTUATION } KEYWORD public KEYWORD static DATA_TYPE boolean IDENTIFIER  PUNCTUATION ( DATA_TYPE int IDENTIFIER  PUNCTUATION ) PUNCTUATION { KEYWORD if PUNCTUATION ( IDENTIFIER  OPERATOR <= NUMBER  PUNCTUATION ) PUNCTUATION { KEYWORD return BOOLEAN false PUNCTUATION ; PUNCTUATION } KEYWORD for PUNCTUATION ( DATA_TYPE int IDENTIFIER  OPERATOR = NUMBER  PUNCTUATION ; IDENTIFIER  OPERATOR <= IDENTIFIER  PUNCTUATION . IDENTIFIER  PUNCTUATION ( IDENTIFIER  PUNCTUATION ) PUNCTUATION ; IDENTIFIER  OPERATOR + OPERATOR + PUNCTUATION ) PUNCTUATION { KEYWORD if PUNCTUATION ( IDENTIFIER  OPERATOR % IDENTIFIER  OPERATOR = OPERATOR = NUMBER  PUNCTUATION ) PUNCTUATION { KEYWORD return BOOLEAN false PUNCTUATION ; PUNCTUATION } PUNCTUATION } KEYWORD return BOOLEAN true PUNCTUATION ; PUNCTUATION } PUNCTUATION } '], ['KEYWORD public KEYWORD class IDENTIFIER  PUNCTUATION { KEYWORD public KEYWORD static DATA_TYPE void IDENTIFIER  PUNCTUATION ( IDENTIFIER  PUNCTUATION [ PUNCTUATION ] IDENTIFIER  PUNCTUATION ) PUNCTUATION { IDENTIFIER  IDENTIFIER  OPERATOR = STRING  PUNCTUATION ; KEYWORD if PUNCTUATION ( IDENTIFIER  PUNCTUATION ( IDENTIFIER  PUNCTUATION ) PUNCTUATION ) PUNCTUATION { SYSTEM_CALL System.out.println PUNCTUATION ( IDENTIFIER  OPERATOR + STRING  PUNCTUATION ) PUNCTUATION ; PUNCTUATION } KEYWORD else PUNCTUATION { SYSTEM_CALL System.out.println PUNCTUATION ( IDENTIFIER  OPERATOR + STRING  PUNCTUATION ) PUNCTUATION ; PUNCTUATION } PUNCTUATION } KEYWORD public KEYWORD static DATA_TYPE boolean IDENTIFIER  PUNCTUATION ( IDENTIFIER  IDENTIFIER  PUNCTUATION ) PUNCTUATION { IDENTIFIER  IDENTIFIER  OPERATOR = STRING  PUNCTUATION ; KEYWORD for PUNCTUATION ( DATA_TYPE int IDENTIFIER  OPERATOR = IDENTIFIER  PUNCTUATION . IDENTIFIER  PUNCTUATION ( PUNCTUATION ) OPERATOR - NUMBER  PUNCTUATION ; IDENTIFIER  OPERATOR >= NUMBER  PUNCTUATION ; IDENTIFIER  OPERATOR - OPERATOR - PUNCTUATION ) PUNCTUATION { IDENTIFIER  OPERATOR + OPERATOR = IDENTIFIER  PUNCTUATION . IDENTIFIER  PUNCTUATION ( IDENTIFIER  PUNCTUATION ) PUNCTUATION ; PUNCTUATION } KEYWORD return IDENTIFIER  PUNCTUATION . IDENTIFIER  PUNCTUATION ( IDENTIFIER  PUNCTUATION ) PUNCTUATION ; PUNCTUATION } PUNCTUATION } ', 'KEYWORD public KEYWORD class IDENTIFIER  PUNCTUATION { KEYWORD public KEYWORD static DATA_TYPE void IDENTIFIER  PUNCTUATION ( IDENTIFIER  PUNCTUATION [ PUNCTUATION ] IDENTIFIER  PUNCTUATION ) PUNCTUATION { IDENTIFIER  IDENTIFIER  OPERATOR = STRING  PUNCTUATION ; KEYWORD if PUNCTUATION ( IDENTIFIER  PUNCTUATION ( IDENTIFIER  PUNCTUATION ) PUNCTUATION ) PUNCTUATION { SYSTEM_CALL System.out.println PUNCTUATION ( IDENTIFIER  OPERATOR + STRING  PUNCTUATION ) PUNCTUATION ; PUNCTUATION } KEYWORD else PUNCTUATION { SYSTEM_CALL System.out.println PUNCTUATION ( IDENTIFIER  OPERATOR + STRING  PUNCTUATION ) PUNCTUATION ; PUNCTUATION } PUNCTUATION } KEYWORD public KEYWORD static DATA_TYPE boolean IDENTIFIER  PUNCTUATION ( IDENTIFIER  IDENTIFIER  PUNCTUATION ) PUNCTUATION { IDENTIFIER  IDENTIFIER  OPERATOR = STRING  PUNCTUATION ; KEYWORD for PUNCTUATION ( DATA_TYPE int IDENTIFIER  OPERATOR = IDENTIFIER  PUNCTUATION . IDENTIFIER  PUNCTUATION ( PUNCTUATION ) OPERATOR - NUMBER  PUNCTUATION ; IDENTIFIER  OPERATOR >= NUMBER  PUNCTUATION ; IDENTIFIER  OPERATOR - OPERATOR - PUNCTUATION ) PUNCTUATION { IDENTIFIER  OPERATOR + OPERATOR = IDENTIFIER  PUNCTUATION . IDENTIFIER  PUNCTUATION ( IDENTIFIER  PUNCTUATION ) PUNCTUATION ; PUNCTUATION } KEYWORD return IDENTIFIER  PUNCTUATION . IDENTIFIER  PUNCTUATION ( IDENTIFIER  PUNCTUATION ) PUNCTUATION ; PUNCTUATION } PUNCTUATION } '], ['KEYWORD public KEYWORD class IDENTIFIER  PUNCTUATION { KEYWORD public KEYWORD static DATA_TYPE void IDENTIFIER  PUNCTUATION ( IDENTIFIER  PUNCTUATION [ PUNCTUATION ] IDENTIFIER  PUNCTUATION ) PUNCTUATION { DATA_TYPE int IDENTIFIER  OPERATOR = NUMBER  PUNCTUATION ; DATA_TYPE int IDENTIFIER  OPERATOR = IDENTIFIER  PUNCTUATION ( IDENTIFIER  PUNCTUATION ) PUNCTUATION ; SYSTEM_CALL System.out.println PUNCTUATION ( STRING  OPERATOR + IDENTIFIER  OPERATOR + STRING  OPERATOR + IDENTIFIER  PUNCTUATION ) PUNCTUATION ; PUNCTUATION } KEYWORD public KEYWORD static DATA_TYPE int IDENTIFIER  PUNCTUATION ( DATA_TYPE int IDENTIFIER  PUNCTUATION ) PUNCTUATION { KEYWORD if PUNCTUATION ( IDENTIFIER  OPERATOR = OPERATOR = NUMBER  OPERATOR | OPERATOR | IDENTIFIER  OPERATOR = OPERATOR = NUMBER  PUNCTUATION ) PUNCTUATION { KEYWORD return NUMBER  PUNCTUATION ; PUNCTUATION } DATA_TYPE int IDENTIFIER  OPERATOR = NUMBER  PUNCTUATION ; KEYWORD for PUNCTUATION ( DATA_TYPE int IDENTIFIER  OPERATOR = NUMBER  PUNCTUATION ; IDENTIFIER  OPERATOR <= IDENTIFIER  PUNCTUATION ; IDENTIFIER  OPERATOR + OPERATOR + PUNCTUATION ) PUNCTUATION { IDENTIFIER  OPERATOR * OPERATOR = IDENTIFIER  PUNCTUATION ; PUNCTUATION } KEYWORD return IDENTIFIER  PUNCTUATION ; PUNCTUATION } PUNCTUATION } ', 'KEYWORD public KEYWORD class IDENTIFIER  PUNCTUATION { KEYWORD public KEYWORD static DATA_TYPE void IDENTIFIER  PUNCTUATION ( IDENTIFIER  PUNCTUATION [ PUNCTUATION ] IDENTIFIER  PUNCTUATION ) PUNCTUATION { DATA_TYPE int IDENTIFIER  OPERATOR = NUMBER  PUNCTUATION ; DATA_TYPE int IDENTIFIER  OPERATOR = IDENTIFIER  PUNCTUATION ( IDENTIFIER  PUNCTUATION ) PUNCTUATION ; SYSTEM_CALL System.out.println PUNCTUATION ( STRING  OPERATOR + IDENTIFIER  OPERATOR + STRING  OPERATOR + IDENTIFIER  PUNCTUATION ) PUNCTUATION ; PUNCTUATION } KEYWORD public KEYWORD static DATA_TYPE int IDENTIFIER  PUNCTUATION ( DATA_TYPE int IDENTIFIER  PUNCTUATION ) PUNCTUATION { KEYWORD if PUNCTUATION ( IDENTIFIER  OPERATOR = OPERATOR = NUMBER  OPERATOR | OPERATOR | IDENTIFIER  OPERATOR = OPERATOR = NUMBER  PUNCTUATION ) PUNCTUATION { KEYWORD return NUMBER  PUNCTUATION ; PUNCTUATION } DATA_TYPE int IDENTIFIER  OPERATOR = NUMBER  PUNCTUATION ; KEYWORD for PUNCTUATION ( DATA_TYPE int IDENTIFIER  OPERATOR = NUMBER  PUNCTUATION ; IDENTIFIER  OPERATOR <= IDENTIFIER  PUNCTUATION ; IDENTIFIER  OPERATOR + OPERATOR + PUNCTUATION ) PUNCTUATION { IDENTIFIER  OPERATOR * OPERATOR = IDENTIFIER  PUNCTUATION ; PUNCTUATION } KEYWORD return IDENTIFIER  PUNCTUATION ; PUNCTUATION } PUNCTUATION } '], ['KEYWORD public KEYWORD class IDENTIFIER  PUNCTUATION { KEYWORD public KEYWORD static DATA_TYPE void IDENTIFIER  PUNCTUATION ( IDENTIFIER  PUNCTUATION [ PUNCTUATION ] IDENTIFIER  PUNCTUATION ) PUNCTUATION { DATA_TYPE int IDENTIFIER  OPERATOR = NUMBER  PUNCTUATION ; KEYWORD if PUNCTUATION ( IDENTIFIER  PUNCTUATION ( IDENTIFIER  PUNCTUATION ) PUNCTUATION ) PUNCTUATION { SYSTEM_CALL System.out.println PUNCTUATION ( IDENTIFIER  OPERATOR + STRING  PUNCTUATION ) PUNCTUATION ; PUNCTUATION } KEYWORD else PUNCTUATION { SYSTEM_CALL System.out.println PUNCTUATION ( IDENTIFIER  OPERATOR + STRING  PUNCTUATION ) PUNCTUATION ; PUNCTUATION } PUNCTUATION } KEYWORD public KEYWORD static DATA_TYPE boolean IDENTIFIER  PUNCTUATION ( DATA_TYPE int IDENTIFIER  PUNCTUATION ) PUNCTUATION { KEYWORD if PUNCTUATION ( IDENTIFIER  OPERATOR <= NUMBER  PUNCTUATION ) PUNCTUATION { KEYWORD return BOOLEAN false PUNCTUATION ; PUNCTUATION } KEYWORD for PUNCTUATION ( DATA_TYPE int IDENTIFIER  OPERATOR = NUMBER  PUNCTUATION ; IDENTIFIER  OPERATOR <= IDENTIFIER  PUNCTUATION . IDENTIFIER  PUNCTUATION ( IDENTIFIER  PUNCTUATION ) PUNCTUATION ; IDENTIFIER  OPERATOR + OPERATOR + PUNCTUATION ) PUNCTUATION { KEYWORD if PUNCTUATION ( IDENTIFIER  OPERATOR % IDENTIFIER  OPERATOR = OPERATOR = NUMBER  PUNCTUATION ) PUNCTUATION { KEYWORD return BOOLEAN false PUNCTUATION ; PUNCTUATION } PUNCTUATION } KEYWORD return BOOLEAN true PUNCTUATION ; PUNCTUATION } PUNCTUATION } ', 'KEYWORD public KEYWORD class IDENTIFIER  PUNCTUATION { KEYWORD public KEYWORD static DATA_TYPE void IDENTIFIER  PUNCTUATION ( IDENTIFIER  PUNCTUATION [ PUNCTUATION ] IDENTIFIER  PUNCTUATION ) PUNCTUATION { DATA_TYPE int IDENTIFIER  OPERATOR = NUMBER  PUNCTUATION ; KEYWORD if PUNCTUATION ( IDENTIFIER  PUNCTUATION ( IDENTIFIER  PUNCTUATION ) PUNCTUATION ) PUNCTUATION { SYSTEM_CALL System.out.println PUNCTUATION ( IDENTIFIER  OPERATOR + STRING  PUNCTUATION ) PUNCTUATION ; PUNCTUATION } KEYWORD else PUNCTUATION { SYSTEM_CALL System.out.println PUNCTUATION ( IDENTIFIER  OPERATOR + STRING  PUNCTUATION ) PUNCTUATION ; PUNCTUATION } PUNCTUATION } KEYWORD public KEYWORD static DATA_TYPE boolean IDENTIFIER  PUNCTUATION ( DATA_TYPE int IDENTIFIER  PUNCTUATION ) PUNCTUATION { KEYWORD if PUNCTUATION ( IDENTIFIER  OPERATOR <= NUMBER  PUNCTUATION ) PUNCTUATION { KEYWORD return BOOLEAN false PUNCTUATION ; PUNCTUATION } KEYWORD for PUNCTUATION ( DATA_TYPE int IDENTIFIER  OPERATOR = NUMBER  PUNCTUATION ; IDENTIFIER  OPERATOR <= IDENTIFIER  PUNCTUATION . IDENTIFIER  PUNCTUATION ( IDENTIFIER  PUNCTUATION ) PUNCTUATION ; IDENTIFIER  OPERATOR + OPERATOR + PUNCTUATION ) PUNCTUATION { KEYWORD if PUNCTUATION ( IDENTIFIER  OPERATOR % IDENTIFIER  OPERATOR = OPERATOR = NUMBER  PUNCTUATION ) PUNCTUATION { KEYWORD return BOOLEAN false PUNCTUATION ; PUNCTUATION } PUNCTUATION } KEYWORD return BOOLEAN true PUNCTUATION ; PUNCTUATION } PUNCTUATION } '], ['KEYWORD public KEYWORD class IDENTIFIER  PUNCTUATION { KEYWORD public KEYWORD static DATA_TYPE void IDENTIFIER  PUNCTUATION ( IDENTIFIER  PUNCTUATION [ PUNCTUATION ] IDENTIFIER  PUNCTUATION ) PUNCTUATION { DATA_TYPE int IDENTIFIER  OPERATOR = NUMBER  PUNCTUATION ; DATA_TYPE int IDENTIFIER  OPERATOR = NUMBER  PUNCTUATION ; DATA_TYPE int IDENTIFIER  OPERATOR = IDENTIFIER  PUNCTUATION ( IDENTIFIER  PUNCTUATION , IDENTIFIER  PUNCTUATION ) PUNCTUATION ; SYSTEM_CALL System.out.println PUNCTUATION ( IDENTIFIER  OPERATOR + STRING  OPERATOR + IDENTIFIER  OPERATOR + STRING  OPERATOR + IDENTIFIER  PUNCTUATION ) PUNCTUATION ; PUNCTUATION } KEYWORD public KEYWORD static DATA_TYPE int IDENTIFIER  PUNCTUATION ( DATA_TYPE int IDENTIFIER  PUNCTUATION , DATA_TYPE int IDENTIFIER  PUNCTUATION ) PUNCTUATION { DATA_TYPE int IDENTIFIER  OPERATOR = NUMBER  PUNCTUATION ; KEYWORD for PUNCTUATION ( DATA_TYPE int IDENTIFIER  OPERATOR = NUMBER  PUNCTUATION ; IDENTIFIER  OPERATOR <= IDENTIFIER  PUNCTUATION ; IDENTIFIER  OPERATOR + OPERATOR + PUNCTUATION ) PUNCTUATION { IDENTIFIER  OPERATOR * OPERATOR = IDENTIFIER  PUNCTUATION ; PUNCTUATION } KEYWORD return IDENTIFIER  PUNCTUATION ; PUNCTUATION } PUNCTUATION } ', 'KEYWORD public KEYWORD class IDENTIFIER  PUNCTUATION { KEYWORD public KEYWORD static DATA_TYPE void IDENTIFIER  PUNCTUATION ( IDENTIFIER  PUNCTUATION [ PUNCTUATION ] IDENTIFIER  PUNCTUATION ) PUNCTUATION { DATA_TYPE int IDENTIFIER  OPERATOR = NUMBER  PUNCTUATION ; DATA_TYPE int IDENTIFIER  OPERATOR = NUMBER  PUNCTUATION ; DATA_TYPE int IDENTIFIER  OPERATOR = IDENTIFIER  PUNCTUATION ( IDENTIFIER  PUNCTUATION , IDENTIFIER  PUNCTUATION ) PUNCTUATION ; SYSTEM_CALL System.out.println PUNCTUATION ( IDENTIFIER  OPERATOR + STRING  OPERATOR + IDENTIFIER  OPERATOR + STRING  OPERATOR + IDENTIFIER  PUNCTUATION ) PUNCTUATION ; PUNCTUATION } KEYWORD public KEYWORD static DATA_TYPE int IDENTIFIER  PUNCTUATION ( DATA_TYPE int IDENTIFIER  PUNCTUATION , DATA_TYPE int IDENTIFIER  PUNCTUATION ) PUNCTUATION { DATA_TYPE int IDENTIFIER  OPERATOR = NUMBER  PUNCTUATION ; KEYWORD for PUNCTUATION ( DATA_TYPE int IDENTIFIER  OPERATOR = NUMBER  PUNCTUATION ; IDENTIFIER  OPERATOR <= IDENTIFIER  PUNCTUATION ; IDENTIFIER  OPERATOR + OPERATOR + PUNCTUATION ) PUNCTUATION { IDENTIFIER  OPERATOR * OPERATOR = IDENTIFIER  PUNCTUATION ; PUNCTUATION } KEYWORD return IDENTIFIER  PUNCTUATION ; PUNCTUATION } PUNCTUATION } '], ['KEYWORD public KEYWORD class IDENTIFIER  PUNCTUATION { KEYWORD public KEYWORD static DATA_TYPE void IDENTIFIER  PUNCTUATION ( IDENTIFIER  PUNCTUATION [ PUNCTUATION ] IDENTIFIER  PUNCTUATION ) PUNCTUATION { DATA_TYPE int PUNCTUATION [ PUNCTUATION ] IDENTIFIER  OPERATOR = PUNCTUATION { NUMBER  PUNCTUATION , NUMBER  PUNCTUATION , NUMBER  PUNCTUATION , NUMBER  PUNCTUATION , NUMBER  PUNCTUATION } PUNCTUATION ; DATA_TYPE int IDENTIFIER  OPERATOR = IDENTIFIER  PUNCTUATION ( IDENTIFIER  PUNCTUATION ) PUNCTUATION ; SYSTEM_CALL System.out.println PUNCTUATION ( STRING  OPERATOR + IDENTIFIER  PUNCTUATION ) PUNCTUATION ; PUNCTUATION } KEYWORD public KEYWORD static DATA_TYPE int IDENTIFIER  PUNCTUATION ( DATA_TYPE int PUNCTUATION [ PUNCTUATION ] IDENTIFIER  PUNCTUATION ) PUNCTUATION { DATA_TYPE int IDENTIFIER  OPERATOR = NUMBER  PUNCTUATION ; KEYWORD for PUNCTUATION ( DATA_TYPE int IDENTIFIER  OPERATOR = NUMBER  PUNCTUATION ; IDENTIFIER  OPERATOR < IDENTIFIER  PUNCTUATION . IDENTIFIER  PUNCTUATION ; IDENTIFIER  OPERATOR + OPERATOR + PUNCTUATION ) PUNCTUATION { IDENTIFIER  OPERATOR + OPERATOR = IDENTIFIER  PUNCTUATION [ IDENTIFIER  PUNCTUATION ] PUNCTUATION ; PUNCTUATION } KEYWORD return IDENTIFIER  PUNCTUATION ; PUNCTUATION } PUNCTUATION } ', 'KEYWORD public KEYWORD class IDENTIFIER  PUNCTUATION { KEYWORD public KEYWORD static DATA_TYPE void IDENTIFIER  PUNCTUATION ( IDENTIFIER  PUNCTUATION [ PUNCTUATION ] IDENTIFIER  PUNCTUATION ) PUNCTUATION { DATA_TYPE int PUNCTUATION [ PUNCTUATION ] IDENTIFIER  OPERATOR = PUNCTUATION { NUMBER  PUNCTUATION , NUMBER  PUNCTUATION , NUMBER  PUNCTUATION , NUMBER  PUNCTUATION , NUMBER  PUNCTUATION } PUNCTUATION ; DATA_TYPE int IDENTIFIER  OPERATOR = IDENTIFIER  PUNCTUATION ( IDENTIFIER  PUNCTUATION ) PUNCTUATION ; SYSTEM_CALL System.out.println PUNCTUATION ( STRING  OPERATOR + IDENTIFIER  PUNCTUATION ) PUNCTUATION ; PUNCTUATION } KEYWORD public KEYWORD static DATA_TYPE int IDENTIFIER  PUNCTUATION ( DATA_TYPE int PUNCTUATION [ PUNCTUATION ] IDENTIFIER  PUNCTUATION ) PUNCTUATION { DATA_TYPE int IDENTIFIER  OPERATOR = NUMBER  PUNCTUATION ; KEYWORD for PUNCTUATION ( DATA_TYPE int IDENTIFIER  OPERATOR = NUMBER  PUNCTUATION ; IDENTIFIER  OPERATOR < IDENTIFIER  PUNCTUATION . IDENTIFIER  PUNCTUATION ; IDENTIFIER  OPERATOR + OPERATOR + PUNCTUATION ) PUNCTUATION { IDENTIFIER  OPERATOR + OPERATOR = IDENTIFIER  PUNCTUATION [ IDENTIFIER  PUNCTUATION ] PUNCTUATION ; PUNCTUATION } KEYWORD return IDENTIFIER  PUNCTUATION ; PUNCTUATION } PUNCTUATION } '], ['KEYWORD public KEYWORD class IDENTIFIER  PUNCTUATION { KEYWORD public KEYWORD static DATA_TYPE void IDENTIFIER  PUNCTUATION ( IDENTIFIER  PUNCTUATION [ PUNCTUATION ] IDENTIFIER  PUNCTUATION ) PUNCTUATION { DATA_TYPE int IDENTIFIER  OPERATOR = NUMBER  PUNCTUATION ; SYSTEM_CALL System.out.println PUNCTUATION ( STRING  OPERATOR + IDENTIFIER  OPERATOR + STRING  PUNCTUATION ) PUNCTUATION ; KEYWORD for PUNCTUATION ( DATA_TYPE int IDENTIFIER  OPERATOR = NUMBER  PUNCTUATION ; IDENTIFIER  OPERATOR < IDENTIFIER  PUNCTUATION ; IDENTIFIER  OPERATOR + OPERATOR + PUNCTUATION ) PUNCTUATION { SYSTEM_CALL System.out.print PUNCTUATION ( IDENTIFIER  PUNCTUATION ( IDENTIFIER  PUNCTUATION ) OPERATOR + STRING  PUNCTUATION ) PUNCTUATION ; PUNCTUATION } PUNCTUATION } KEYWORD public KEYWORD static DATA_TYPE int IDENTIFIER  PUNCTUATION ( DATA_TYPE int IDENTIFIER  PUNCTUATION ) PUNCTUATION { KEYWORD if PUNCTUATION ( IDENTIFIER  OPERATOR = OPERATOR = NUMBER  OPERATOR | OPERATOR | IDENTIFIER  OPERATOR = OPERATOR = NUMBER  PUNCTUATION ) PUNCTUATION { KEYWORD return IDENTIFIER  PUNCTUATION ; PUNCTUATION } DATA_TYPE int IDENTIFIER  OPERATOR = NUMBER  PUNCTUATION ; DATA_TYPE int IDENTIFIER  OPERATOR = NUMBER  PUNCTUATION ; DATA_TYPE int IDENTIFIER  OPERATOR = NUMBER  PUNCTUATION ; KEYWORD for PUNCTUATION ( DATA_TYPE int IDENTIFIER  OPERATOR = NUMBER  PUNCTUATION ; IDENTIFIER  OPERATOR <= IDENTIFIER  PUNCTUATION ; IDENTIFIER  OPERATOR + OPERATOR + PUNCTUATION ) PUNCTUATION { IDENTIFIER  OPERATOR = IDENTIFIER  OPERATOR + IDENTIFIER  PUNCTUATION ; IDENTIFIER  OPERATOR = IDENTIFIER  PUNCTUATION ; IDENTIFIER  OPERATOR = IDENTIFIER  PUNCTUATION ; PUNCTUATION } KEYWORD return IDENTIFIER  PUNCTUATION ; PUNCTUATION } PUNCTUATION } ', 'KEYWORD public KEYWORD class IDENTIFIER  PUNCTUATION { KEYWORD public KEYWORD static DATA_TYPE void IDENTIFIER  PUNCTUATION ( IDENTIFIER  PUNCTUATION [ PUNCTUATION ] IDENTIFIER  PUNCTUATION ) PUNCTUATION { DATA_TYPE int IDENTIFIER  OPERATOR = NUMBER  PUNCTUATION ; SYSTEM_CALL System.out.println PUNCTUATION ( STRING  OPERATOR + IDENTIFIER  OPERATOR + STRING  PUNCTUATION ) PUNCTUATION ; KEYWORD for PUNCTUATION ( DATA_TYPE int IDENTIFIER  OPERATOR = NUMBER  PUNCTUATION ; IDENTIFIER  OPERATOR < IDENTIFIER  PUNCTUATION ; IDENTIFIER  OPERATOR + OPERATOR + PUNCTUATION ) PUNCTUATION { SYSTEM_CALL System.out.print PUNCTUATION ( IDENTIFIER  PUNCTUATION ( IDENTIFIER  PUNCTUATION ) OPERATOR + STRING  PUNCTUATION ) PUNCTUATION ; PUNCTUATION } PUNCTUATION } KEYWORD public KEYWORD static DATA_TYPE int IDENTIFIER  PUNCTUATION ( DATA_TYPE int IDENTIFIER  PUNCTUATION ) PUNCTUATION { KEYWORD if PUNCTUATION ( IDENTIFIER  OPERATOR = OPERATOR = NUMBER  OPERATOR | OPERATOR | IDENTIFIER  OPERATOR = OPERATOR = NUMBER  PUNCTUATION ) PUNCTUATION { KEYWORD return IDENTIFIER  PUNCTUATION ; PUNCTUATION } DATA_TYPE int IDENTIFIER  OPERATOR = NUMBER  PUNCTUATION ; DATA_TYPE int IDENTIFIER  OPERATOR = NUMBER  PUNCTUATION ; DATA_TYPE int IDENTIFIER  OPERATOR = NUMBER  PUNCTUATION ; KEYWORD for PUNCTUATION ( DATA_TYPE int IDENTIFIER  OPERATOR = NUMBER  PUNCTUATION ; IDENTIFIER  OPERATOR <= IDENTIFIER  PUNCTUATION ; IDENTIFIER  OPERATOR + OPERATOR + PUNCTUATION ) PUNCTUATION { IDENTIFIER  OPERATOR = IDENTIFIER  OPERATOR + IDENTIFIER  PUNCTUATION ; IDENTIFIER  OPERATOR = IDENTIFIER  PUNCTUATION ; IDENTIFIER  OPERATOR = IDENTIFIER  PUNCTUATION ; PUNCTUATION } KEYWORD return IDENTIFIER  PUNCTUATION ; PUNCTUATION } PUNCTUATION } IDENTIFIER  ']]\n"
     ]
    }
   ],
   "source": [
    "lexer1 = Lexer()\n",
    "\n",
    "\n",
    "#X_train = [[\"int a = 123\", \"System.out.println('Hello, world!')\"], [\"for (int i = 0; i < 10; i++)\", \"String name = \\\"John\\\"\"]]#\n",
    "#X_test = [[\"boolean flag = true\", \"System.exit(0);\"], [\"if (x > y)\", \"System.out.println(\\\"x is greater than y\\\")\"]]\n",
    "\n",
    "def get_token_string(code):\n",
    "    lexer = Lexer()\n",
    "    return lexer.get_token_string(code)\n",
    "\n",
    "X_tokenized = [[get_token_string(code) for code in code_list] for code_list in X]\n",
    "\n",
    "print(X_tokenized)\n"
   ]
  },
  {
   "cell_type": "code",
   "execution_count": 47,
   "metadata": {},
   "outputs": [],
   "source": [
    "X_tokenized_firstcode = [pair[0] for pair in X_tokenized]\n",
    "X_tokenized_secondcode = [pair[1] for pair in X_tokenized]\n"
   ]
  },
  {
   "cell_type": "code",
   "execution_count": 55,
   "metadata": {},
   "outputs": [],
   "source": [
    "full_dataset_separado = pd.DataFrame(\n",
    "    {'code1': X_tokenized_firstcode ,\n",
    "     'code2': X_tokenized_secondcode,\n",
    "     'plagium': y,\n",
    "    })"
   ]
  },
  {
   "cell_type": "code",
   "execution_count": 56,
   "metadata": {},
   "outputs": [
    {
     "data": {
      "text/html": [
       "<div>\n",
       "<style scoped>\n",
       "    .dataframe tbody tr th:only-of-type {\n",
       "        vertical-align: middle;\n",
       "    }\n",
       "\n",
       "    .dataframe tbody tr th {\n",
       "        vertical-align: top;\n",
       "    }\n",
       "\n",
       "    .dataframe thead th {\n",
       "        text-align: right;\n",
       "    }\n",
       "</style>\n",
       "<table border=\"1\" class=\"dataframe\">\n",
       "  <thead>\n",
       "    <tr style=\"text-align: right;\">\n",
       "      <th></th>\n",
       "      <th>code1</th>\n",
       "      <th>code2</th>\n",
       "      <th>plagium</th>\n",
       "    </tr>\n",
       "  </thead>\n",
       "  <tbody>\n",
       "    <tr>\n",
       "      <th>0</th>\n",
       "      <td>KEYWORD public KEYWORD class IDENTIFIER  PUNCT...</td>\n",
       "      <td>KEYWORD public KEYWORD class IDENTIFIER  PUNCT...</td>\n",
       "      <td>1</td>\n",
       "    </tr>\n",
       "    <tr>\n",
       "      <th>1</th>\n",
       "      <td>KEYWORD public KEYWORD class IDENTIFIER  PUNCT...</td>\n",
       "      <td>KEYWORD public KEYWORD class IDENTIFIER  PUNCT...</td>\n",
       "      <td>1</td>\n",
       "    </tr>\n",
       "    <tr>\n",
       "      <th>2</th>\n",
       "      <td>KEYWORD public KEYWORD class IDENTIFIER  PUNCT...</td>\n",
       "      <td>KEYWORD public KEYWORD class IDENTIFIER  PUNCT...</td>\n",
       "      <td>1</td>\n",
       "    </tr>\n",
       "    <tr>\n",
       "      <th>3</th>\n",
       "      <td>KEYWORD public KEYWORD class IDENTIFIER  PUNCT...</td>\n",
       "      <td>KEYWORD public KEYWORD class IDENTIFIER  PUNCT...</td>\n",
       "      <td>1</td>\n",
       "    </tr>\n",
       "    <tr>\n",
       "      <th>4</th>\n",
       "      <td>KEYWORD public KEYWORD class IDENTIFIER  PUNCT...</td>\n",
       "      <td>KEYWORD public KEYWORD class IDENTIFIER  PUNCT...</td>\n",
       "      <td>1</td>\n",
       "    </tr>\n",
       "    <tr>\n",
       "      <th>5</th>\n",
       "      <td>KEYWORD public KEYWORD class IDENTIFIER  PUNCT...</td>\n",
       "      <td>KEYWORD public KEYWORD class IDENTIFIER  PUNCT...</td>\n",
       "      <td>1</td>\n",
       "    </tr>\n",
       "    <tr>\n",
       "      <th>6</th>\n",
       "      <td>KEYWORD public KEYWORD class IDENTIFIER  PUNCT...</td>\n",
       "      <td>KEYWORD public KEYWORD class IDENTIFIER  PUNCT...</td>\n",
       "      <td>1</td>\n",
       "    </tr>\n",
       "    <tr>\n",
       "      <th>7</th>\n",
       "      <td>KEYWORD public KEYWORD class IDENTIFIER  PUNCT...</td>\n",
       "      <td>KEYWORD public KEYWORD class IDENTIFIER  PUNCT...</td>\n",
       "      <td>1</td>\n",
       "    </tr>\n",
       "    <tr>\n",
       "      <th>8</th>\n",
       "      <td>KEYWORD public KEYWORD class IDENTIFIER  PUNCT...</td>\n",
       "      <td>KEYWORD public KEYWORD class IDENTIFIER  PUNCT...</td>\n",
       "      <td>1</td>\n",
       "    </tr>\n",
       "    <tr>\n",
       "      <th>9</th>\n",
       "      <td>KEYWORD public KEYWORD class IDENTIFIER  PUNCT...</td>\n",
       "      <td>KEYWORD public KEYWORD class IDENTIFIER  PUNCT...</td>\n",
       "      <td>1</td>\n",
       "    </tr>\n",
       "  </tbody>\n",
       "</table>\n",
       "</div>"
      ],
      "text/plain": [
       "                                               code1  \\\n",
       "0  KEYWORD public KEYWORD class IDENTIFIER  PUNCT...   \n",
       "1  KEYWORD public KEYWORD class IDENTIFIER  PUNCT...   \n",
       "2  KEYWORD public KEYWORD class IDENTIFIER  PUNCT...   \n",
       "3  KEYWORD public KEYWORD class IDENTIFIER  PUNCT...   \n",
       "4  KEYWORD public KEYWORD class IDENTIFIER  PUNCT...   \n",
       "5  KEYWORD public KEYWORD class IDENTIFIER  PUNCT...   \n",
       "6  KEYWORD public KEYWORD class IDENTIFIER  PUNCT...   \n",
       "7  KEYWORD public KEYWORD class IDENTIFIER  PUNCT...   \n",
       "8  KEYWORD public KEYWORD class IDENTIFIER  PUNCT...   \n",
       "9  KEYWORD public KEYWORD class IDENTIFIER  PUNCT...   \n",
       "\n",
       "                                               code2  plagium  \n",
       "0  KEYWORD public KEYWORD class IDENTIFIER  PUNCT...        1  \n",
       "1  KEYWORD public KEYWORD class IDENTIFIER  PUNCT...        1  \n",
       "2  KEYWORD public KEYWORD class IDENTIFIER  PUNCT...        1  \n",
       "3  KEYWORD public KEYWORD class IDENTIFIER  PUNCT...        1  \n",
       "4  KEYWORD public KEYWORD class IDENTIFIER  PUNCT...        1  \n",
       "5  KEYWORD public KEYWORD class IDENTIFIER  PUNCT...        1  \n",
       "6  KEYWORD public KEYWORD class IDENTIFIER  PUNCT...        1  \n",
       "7  KEYWORD public KEYWORD class IDENTIFIER  PUNCT...        1  \n",
       "8  KEYWORD public KEYWORD class IDENTIFIER  PUNCT...        1  \n",
       "9  KEYWORD public KEYWORD class IDENTIFIER  PUNCT...        1  "
      ]
     },
     "execution_count": 56,
     "metadata": {},
     "output_type": "execute_result"
    }
   ],
   "source": [
    "full_dataset_separado"
   ]
  },
  {
   "attachments": {},
   "cell_type": "markdown",
   "metadata": {},
   "source": [
    "Código para preprocesar para LSTM"
   ]
  },
  {
   "cell_type": "code",
   "execution_count": 57,
   "metadata": {},
   "outputs": [
    {
     "data": {
      "text/plain": [
       "0    KEYWORD public KEYWORD class IDENTIFIER  PUNCT...\n",
       "1    KEYWORD public KEYWORD class IDENTIFIER  PUNCT...\n",
       "2    KEYWORD public KEYWORD class IDENTIFIER  PUNCT...\n",
       "3    KEYWORD public KEYWORD class IDENTIFIER  PUNCT...\n",
       "4    KEYWORD public KEYWORD class IDENTIFIER  PUNCT...\n",
       "5    KEYWORD public KEYWORD class IDENTIFIER  PUNCT...\n",
       "6    KEYWORD public KEYWORD class IDENTIFIER  PUNCT...\n",
       "7    KEYWORD public KEYWORD class IDENTIFIER  PUNCT...\n",
       "8    KEYWORD public KEYWORD class IDENTIFIER  PUNCT...\n",
       "9    KEYWORD public KEYWORD class IDENTIFIER  PUNCT...\n",
       "dtype: object"
      ]
     },
     "execution_count": 57,
     "metadata": {},
     "output_type": "execute_result"
    }
   ],
   "source": [
    "import tensorflow as tf\n",
    "import numpy as np\n",
    "from tensorflow.keras.preprocessing.sequence import pad_sequences\n",
    "from tensorflow.keras.models import Sequential\n",
    "from tensorflow.keras.layers import Embedding, LSTM, Dense\n",
    "\n",
    "# Define the maximum sequence length\n",
    "max_sequence_length = 100\n",
    "# Convert the text data to sequences\n",
    "tokenizer = tf.keras.preprocessing.text.Tokenizer()\n",
    "X_LSTM_flat= full_dataset_separado[\"code1\"] + full_dataset_separado[\"code2\"]\n",
    "X_LSTM_flat"
   ]
  },
  {
   "cell_type": "code",
   "execution_count": 75,
   "metadata": {},
   "outputs": [],
   "source": [
    "import io \n",
    "import json \n",
    "from keras_preprocessing.text import tokenizer_from_json\n",
    "with open('tokenizer.json') as f:\n",
    "    data = json.load(f)\n",
    "    tokenizer = tokenizer_from_json(data)\n"
   ]
  },
  {
   "attachments": {},
   "cell_type": "markdown",
   "metadata": {},
   "source": [
    "# Importar modelos"
   ]
  },
  {
   "attachments": {},
   "cell_type": "markdown",
   "metadata": {},
   "source": [
    "## TF-IDF"
   ]
  },
  {
   "cell_type": "code",
   "execution_count": 86,
   "metadata": {},
   "outputs": [],
   "source": [
    "from sklearn.feature_extraction.text import TfidfVectorizer\n",
    "from sklearn.metrics.pairwise import cosine_similarity\n",
    "\n",
    "def compare_tokens_tfidf(tokens1, tokens2, plagium_value):\n",
    "\n",
    "    # Crear un objeto TfidfVectorizer\n",
    "    vectorizer = TfidfVectorizer()\n",
    "\n",
    "    # Aplicar la vectorización TF-IDF a las cadenas de texto\n",
    "    tfidf_matrix = vectorizer.fit_transform([tokens1, tokens2])\n",
    "\n",
    "    # Calcular la similitud del coseno entre los vectores TF-IDF\n",
    "    similarity = cosine_similarity(tfidf_matrix[0], tfidf_matrix[1])\n",
    "    \n",
    "    if similarity[0][0] >= plagium_value:\n",
    "        return 1\n",
    "    else:\n",
    "        return 0\n",
    "\n",
    "#esta funcion regresa la lista de predicciones para un set de inputs\n",
    "def obtener_lista_predicciones_tfidf(this_X, this_y , this_plagium_value):\n",
    "    \n",
    "    y_pred = []\n",
    "    for pair_tokens in this_X:\n",
    "        result = compare_tokens_tfidf(pair_tokens[0], pair_tokens[1], this_plagium_value)  \n",
    "        y_pred.append(result)\n",
    "\n",
    "\n",
    "    return y_pred\n",
    "\n",
    "#esta funcion regresa el accuracy obtenido para las predicciones en base al valor de la similitud usado para determinar plagio\n",
    "def obtener_accuracy_tfidf(this_X, this_y , this_plagium_value):\n",
    "    \n",
    "    y_pred = []\n",
    "    for pair_tokens in this_X:\n",
    "        result = compare_tokens_tfidf(pair_tokens[0], pair_tokens[1], this_plagium_value)  \n",
    "        y_pred.append(result)\n",
    "\n",
    "    accuracy = sum(1 for pred, actual in zip(y_pred, this_y) if pred == actual) / len(this_y)\n",
    "\n",
    "    return accuracy\n"
   ]
  },
  {
   "attachments": {},
   "cell_type": "markdown",
   "metadata": {},
   "source": [
    "## Rouge_l"
   ]
  },
  {
   "cell_type": "code",
   "execution_count": 87,
   "metadata": {},
   "outputs": [],
   "source": [
    "import tensorflow as tf\n",
    "import tensorflow_text as text\n",
    "\n",
    "def compare_code_rouge_l(code_A, code_B, plagium_value):\n",
    "\n",
    "    tokenizer = text.WhitespaceTokenizer()\n",
    "\n",
    "    # Tokenize code A and code B\n",
    "    code_A = tokenizer.tokenize([code_A])\n",
    "    code_B = tokenizer.tokenize([code_B])\n",
    "\n",
    "    # Compute Rouge-L\n",
    "    result = text.metrics.rouge_l(code_A, code_B)\n",
    "\n",
    "    if result.f_measure >= plagium_value:\n",
    "        return 1\n",
    "    else:\n",
    "        return 0\n",
    "\n",
    "#esta funcion regresa la lista de predicciones para un set de inputs\n",
    "def obtener_lista_predicciones_rougel(this_X, this_y , this_plagium_value):\n",
    "    \n",
    "    y_pred = []\n",
    "    for pair_tokens in this_X:\n",
    "        result = compare_code_rouge_l(pair_tokens[0], pair_tokens[1], this_plagium_value)  \n",
    "        y_pred.append(result)\n",
    "\n",
    "\n",
    "    return y_pred\n",
    "\n",
    "#esta funcion regresa el accuracy obtenido para las predicciones en base al valor de la similitud usado para determinar plagio\n",
    "def obtener_accuracy_rougel(this_X, this_y , this_plagium_value):\n",
    "    \n",
    "    y_pred = []\n",
    "    for pair_tokens in this_X:\n",
    "        result = compare_code_rouge_l(pair_tokens[0], pair_tokens[1], this_plagium_value)  \n",
    "        y_pred.append(result)\n",
    "\n",
    "    accuracy = sum(1 for pred, actual in zip(y_pred, this_y) if pred == actual) / len(this_y)\n",
    "\n",
    "    return accuracy"
   ]
  },
  {
   "attachments": {},
   "cell_type": "markdown",
   "metadata": {},
   "source": [
    "## Matrices de transición"
   ]
  },
  {
   "cell_type": "code",
   "execution_count": 88,
   "metadata": {},
   "outputs": [],
   "source": [
    "import re \n",
    "import numpy as np\n",
    "from collections import defaultdict\n",
    "def calculate_transition_matrix(text):\n",
    "    # Eliminar caracteres no alfanuméricos y convertir a minúsculas\n",
    "    text = re.sub(r'[^a-zA-Z0-9\\s]', '', text.lower())\n",
    "\n",
    "    words = text.split()  # Dividir el texto en palabras\n",
    "    unique_words = sorted(list(set(words)))  # Obtener las palabras únicas en el texto\n",
    "    word_indices = {word: i for i, word in enumerate(unique_words)}  # Asignar un índice numérico a cada palabra\n",
    "\n",
    "    matrix = np.zeros((len(unique_words), len(unique_words)))  # Crear una matriz de ceros para la matriz de transición\n",
    "\n",
    "    # Calcular las frecuencias de transición entre palabras consecutivas en el texto\n",
    "    transitions = defaultdict(int)\n",
    "    for i in range(len(words)-1):\n",
    "        current_word = words[i]\n",
    "        next_word = words[i+1]\n",
    "        transitions[(current_word, next_word)] += 1\n",
    "\n",
    "    # Llenar la matriz de transición con las frecuencias de transición\n",
    "    for (current_word, next_word), count in transitions.items():\n",
    "        current_index = word_indices[current_word]\n",
    "        next_index = word_indices[next_word]\n",
    "        matrix[current_index, next_index] = count\n",
    "\n",
    "    # Normalizar las filas de la matriz para obtener probabilidades de transición\n",
    "    row_sums = np.sum(matrix, axis=1)\n",
    "    row_sums[row_sums == 0] = 1  # Reemplazar los valores de suma cero por 1 para evitar divisiones entre cero\n",
    "    matrix = matrix / row_sums[:, np.newaxis]\n",
    "\n",
    "    return matrix, unique_words\n",
    "\n",
    "\n",
    "\n",
    "def cosine_ang(a, b):\n",
    "    # Obtener las dimensiones de las matrices\n",
    "    rows1, cols1 = a.shape\n",
    "    rows2, cols2 = b.shape\n",
    "\n",
    "    # Ajustar las dimensiones de las matrices si son diferentes\n",
    "    if rows1 < rows2:\n",
    "        a = np.vstack((a, np.zeros((rows2 - rows1, cols1))))\n",
    "    elif rows1 > rows2:\n",
    "        b = np.vstack((b, np.zeros((rows1 - rows2, cols2))))\n",
    "\n",
    "    if cols1 < cols2:\n",
    "        a = np.hstack((a, np.zeros((a.shape[0], cols2 - cols1))))\n",
    "    elif cols1 > cols2:\n",
    "        b = np.hstack((b, np.zeros((b.shape[0], cols1 - cols2))))\n",
    "\n",
    "    aT = a.transpose()\n",
    "    bT = b.transpose()\n",
    "    C = np.dot(bT, a)\n",
    "    prod_int = C.trace()\n",
    "\n",
    "    normA = np.sqrt(np.dot(aT, a).trace())\n",
    "    normB = np.sqrt(np.dot(bT, b).trace())\n",
    "\n",
    "    cos_ang = prod_int / (normA * normB)\n",
    "\n",
    "    return cos_ang\n",
    "\n",
    "\n",
    "def compare_tokens_transition_matrix(a,b,plagium_value):\n",
    "    a_matrix, words = calculate_transition_matrix(a)\n",
    "    b_matrix, words = calculate_transition_matrix(b)\n",
    "    cos_ang = cosine_ang(a_matrix,b_matrix)\n",
    "\n",
    "    if cos_ang > plagium_value:\n",
    "        return 1\n",
    "    else:\n",
    "        return 0\n",
    "\n",
    "#esta funcion regresa la lista de predicciones para un set de inputs\n",
    "def obtener_lista_predicciones_matrix(this_X, this_y , this_plagium_value):\n",
    "    \n",
    "    y_pred = []\n",
    "    for pair_tokens in this_X:\n",
    "        result = compare_tokens_transition_matrix(pair_tokens[0], pair_tokens[1], this_plagium_value)  \n",
    "        y_pred.append(result)\n",
    "\n",
    "\n",
    "    return y_pred\n",
    "#esta funcion regresa el accuracy obtenido para las predicciones en base al valor de la similitud usado para determinar plagio\n",
    "def obtener_accuracy_matrix(this_X, this_y , this_plagium_value):\n",
    "    \n",
    "    y_pred = []\n",
    "    for pair_tokens in this_X:\n",
    "        result = compare_tokens_transition_matrix(pair_tokens[0], pair_tokens[1], this_plagium_value)  \n",
    "        y_pred.append(result)\n",
    "\n",
    "    accuracy = sum(1 for pred, actual in zip(y_pred, this_y) if pred == actual) / len(this_y)\n",
    "\n",
    "    return accuracy"
   ]
  },
  {
   "attachments": {},
   "cell_type": "markdown",
   "metadata": {},
   "source": [
    "## LSTM (Balanceado)"
   ]
  },
  {
   "cell_type": "code",
   "execution_count": 76,
   "metadata": {},
   "outputs": [
    {
     "name": "stderr",
     "output_type": "stream",
     "text": [
      "C:\\Users\\cutic\\AppData\\Roaming\\Python\\Python310\\site-packages\\keras\\optimizers\\optimizer_v2\\adam.py:114: UserWarning: The `lr` argument is deprecated, use `learning_rate` instead.\n",
      "  super().__init__(name, **kwargs)\n"
     ]
    }
   ],
   "source": [
    "import tensorflow as tf\n",
    "from tensorflow.keras.layers import *\n",
    "from tensorflow.keras.models import Model\n",
    "from tensorflow.keras.optimizers import Adam\n",
    "\n",
    "# Define the maximum sequence length\n",
    "max_sequence_length = 100\n",
    "\n",
    "# Define the inputs\n",
    "input1 = Input(shape=(max_sequence_length,))\n",
    "input2 = Input(shape=(max_sequence_length,))\n",
    "\n",
    "# Embedding layer for input1\n",
    "embedding_layer = Embedding(len(tokenizer.word_index) + 1, 100, input_length=max_sequence_length)\n",
    "embedded_input1 = embedding_layer(input1)\n",
    "lstm_output1 = LSTM(128, return_sequences=True)(embedded_input1)\n",
    "lstm_output1 = GlobalMaxPooling1D()(lstm_output1)\n",
    "\n",
    "# Embedding layer for input2\n",
    "embedded_input2 = embedding_layer(input2)\n",
    "lstm_output2 = LSTM(128, return_sequences=True)(embedded_input2)\n",
    "lstm_output2 = GlobalMaxPooling1D()(lstm_output2)\n",
    "\n",
    "# Concatenate the LSTM outputs\n",
    "merged_output = Concatenate()([lstm_output1, lstm_output2])\n",
    "\n",
    "# Dense layers\n",
    "dense_output = Dense(64, activation='relu')(merged_output)\n",
    "dense_output = Dropout(0.5)(dense_output)\n",
    "\n",
    "# Output layer\n",
    "output = Dense(1, activation='sigmoid')(dense_output)\n",
    "\n",
    "# Define the model\n",
    "model_lstm = Model(inputs=[input1, input2], outputs=output)\n",
    "\n",
    "# Compile the model\n",
    "model_lstm.compile(loss='binary_crossentropy', optimizer=Adam(lr=0.001), metrics=['accuracy'])\n"
   ]
  },
  {
   "cell_type": "code",
   "execution_count": 77,
   "metadata": {},
   "outputs": [
    {
     "data": {
      "text/plain": [
       "<tensorflow.python.checkpoint.checkpoint.CheckpointLoadStatus at 0x130c6b60cd0>"
      ]
     },
     "execution_count": 77,
     "metadata": {},
     "output_type": "execute_result"
    }
   ],
   "source": [
    "#cargar el entrenamiento ya hecho\n",
    "model_lstm.load_weights('./LSTM_Model/balanced_model')"
   ]
  },
  {
   "attachments": {},
   "cell_type": "markdown",
   "metadata": {},
   "source": [
    "## GPT 2 "
   ]
  },
  {
   "cell_type": "code",
   "execution_count": 83,
   "metadata": {},
   "outputs": [
    {
     "name": "stdout",
     "output_type": "stream",
     "text": [
      "WARNING:tensorflow:Detecting that an object or model or tf.train.Checkpoint is being deleted with unrestored values. See the following logs for the specific values in question. To silence these warnings, use `status.expect_partial()`. See https://www.tensorflow.org/api_docs/python/tf/train/Checkpoint#restorefor details about the status object returned by the restore function.\n",
      "WARNING:tensorflow:Value in checkpoint could not be found in the restored object: (root).optimizer.iter\n",
      "WARNING:tensorflow:Value in checkpoint could not be found in the restored object: (root).optimizer.beta_1\n",
      "WARNING:tensorflow:Value in checkpoint could not be found in the restored object: (root).optimizer.beta_2\n",
      "WARNING:tensorflow:Value in checkpoint could not be found in the restored object: (root).optimizer.decay\n",
      "WARNING:tensorflow:Value in checkpoint could not be found in the restored object: (root).optimizer.learning_rate\n",
      "WARNING:tensorflow:Detecting that an object or model or tf.train.Checkpoint is being deleted with unrestored values. See the following logs for the specific values in question. To silence these warnings, use `status.expect_partial()`. See https://www.tensorflow.org/api_docs/python/tf/train/Checkpoint#restorefor details about the status object returned by the restore function.\n",
      "WARNING:tensorflow:Value in checkpoint could not be found in the restored object: (root).optimizer.iter\n",
      "WARNING:tensorflow:Value in checkpoint could not be found in the restored object: (root).optimizer.beta_1\n",
      "WARNING:tensorflow:Value in checkpoint could not be found in the restored object: (root).optimizer.beta_2\n",
      "WARNING:tensorflow:Value in checkpoint could not be found in the restored object: (root).optimizer.decay\n",
      "WARNING:tensorflow:Value in checkpoint could not be found in the restored object: (root).optimizer.learning_rate\n"
     ]
    },
    {
     "data": {
      "application/vnd.jupyter.widget-view+json": {
       "model_id": "2ecd88c4170a413288c16b6b862e7dda",
       "version_major": 2,
       "version_minor": 0
      },
      "text/plain": [
       "Downloading tf_model.h5:   0%|          | 0.00/498M [00:00<?, ?B/s]"
      ]
     },
     "metadata": {},
     "output_type": "display_data"
    },
    {
     "name": "stderr",
     "output_type": "stream",
     "text": [
      "All model checkpoint layers were used when initializing TFGPT2ForSequenceClassification.\n",
      "\n",
      "Some layers of TFGPT2ForSequenceClassification were not initialized from the model checkpoint at gpt2 and are newly initialized: ['score']\n",
      "You should probably TRAIN this model on a down-stream task to be able to use it for predictions and inference.\n"
     ]
    }
   ],
   "source": [
    "import tensorflow as tf\n",
    "from tensorflow.keras.preprocessing.sequence import pad_sequences\n",
    "from tensorflow.keras.models import Model\n",
    "from tensorflow.keras.layers import *\n",
    "from transformers import TFGPT2ForSequenceClassification, GPT2Tokenizer\n",
    "import numpy as np\n",
    "\n",
    "# Define the maximum sequence length\n",
    "max_sequence_length = 1000\n",
    "\n",
    "# Create the GPT-2 tokenizer\n",
    "tokenizer = GPT2Tokenizer.from_pretrained('gpt2')\n",
    "\n",
    "# Convert the text data to sequences\n",
    "X_test_flattened = full_dataset_separado[\"code1\"] + full_dataset_separado[\"code2\"]\n",
    "tokenizer.pad_token = tokenizer.eos_token\n",
    "\n",
    "\n",
    "X_test_sequences = tokenizer.batch_encode_plus(X_test_flattened,\n",
    "                                               padding=True,\n",
    "                                               truncation=True,\n",
    "                                               max_length=max_sequence_length,\n",
    "                                               return_tensors='tf')\n",
    "\n",
    "# Convert y_train and y_test to numpy arrays\n",
    "y_train = np.array(y_train)\n",
    "y_test = np.array(y_test)\n",
    "\n",
    "# Define the inputs\n",
    "input1 = Input(shape=(max_sequence_length,), dtype=tf.int32)\n",
    "input2 = Input(shape=(max_sequence_length,), dtype=tf.int32)\n",
    "\n",
    "# Load the pre-trained GPT-2 model\n",
    "gpt2_model = TFGPT2ForSequenceClassification.from_pretrained('gpt2')\n",
    "\n",
    "# Get the GPT-2 model outputs\n",
    "outputs = gpt2_model(input1)['logits']\n",
    "\n",
    "# Apply Dense layer to input sequences\n",
    "dense_output1 = Dense(64)(input1)\n",
    "\n",
    "dense_output1 = Dense(64)(dense_output1)\n",
    "\n",
    "# Apply Dense layer to input sequences\n",
    "dense_output2 = Dense(64)(input2)\n",
    "\n",
    "dense_output2 = Dense(64)(dense_output2)\n",
    "\n",
    "# Merge the Dense outputs\n",
    "merged_output = Concatenate()([dense_output1, dense_output2])\n",
    "\n",
    "\n",
    "# Add a dense layer for classification\n",
    "dense_output = Dense(1, activation='sigmoid')(merged_output)\n",
    "\n",
    "# Define the model\n",
    "model_GPT = Model(inputs=[input1, input2], outputs=dense_output)\n",
    "\n",
    "# Compile the model\n",
    "model_GPT.compile(loss='binary_crossentropy', optimizer='adam', metrics=['accuracy'])\n"
   ]
  },
  {
   "cell_type": "code",
   "execution_count": 85,
   "metadata": {},
   "outputs": [
    {
     "data": {
      "text/plain": [
       "<tensorflow.python.checkpoint.checkpoint.CheckpointLoadStatus at 0x130d286aa40>"
      ]
     },
     "execution_count": 85,
     "metadata": {},
     "output_type": "execute_result"
    }
   ],
   "source": [
    "model_GPT.load_weights('./GPT_model/balanced_model')"
   ]
  },
  {
   "attachments": {},
   "cell_type": "markdown",
   "metadata": {},
   "source": [
    "# Comparación de rendimiento"
   ]
  },
  {
   "cell_type": "code",
   "execution_count": null,
   "metadata": {},
   "outputs": [],
   "source": []
  }
 ],
 "metadata": {
  "colab": {
   "provenance": []
  },
  "kernelspec": {
   "display_name": "Python 3 (ipykernel)",
   "language": "python",
   "name": "python3"
  },
  "language_info": {
   "codemirror_mode": {
    "name": "ipython",
    "version": 3
   },
   "file_extension": ".py",
   "mimetype": "text/x-python",
   "name": "python",
   "nbconvert_exporter": "python",
   "pygments_lexer": "ipython3",
   "version": "3.10.9"
  }
 },
 "nbformat": 4,
 "nbformat_minor": 1
}
